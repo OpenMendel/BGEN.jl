{
 "cells": [
  {
   "cell_type": "markdown",
   "metadata": {
    "slideshow": {
     "slide_type": "slide"
    }
   },
   "source": [
    "# BGEN.jl\n",
    "\n",
    "Routines for reading compressed storage of genotyped or imputed markers"
   ]
  },
  {
   "attachments": {},
   "cell_type": "markdown",
   "metadata": {
    "slideshow": {
     "slide_type": "slide"
    }
   },
   "source": [
    "## The BGEN Format\n",
    "\n",
    "[*Genome-wide association studies (GWAS)*](https://en.wikipedia.org/wiki/Genome-wide_association_study) data with imputed markers are often saved in the [**BGEN format**](https://www.well.ox.ac.uk/~gav/bgen_format/) or `.bgen` file.\n",
    "\n",
    "Used in:\n",
    "\n",
    "* Wellcome Trust Case-Control Consortium 2\n",
    "* the MalariaGEN project\n",
    "* the ALSPAC study\n",
    "* [__UK Biobank__](https://enkre.net/cgi-bin/code/bgen/wiki/?name=BGEN+in+the+UK+Biobank): for genome-wide imputed genotypes and phased haplotypes\n",
    "\n"
   ]
  },
  {
   "cell_type": "markdown",
   "metadata": {
    "slideshow": {
     "slide_type": "slide"
    }
   },
   "source": [
    "### Features\n",
    "\n",
    "* Can store both hard-calls and imputed data\n",
    "* Can store both phased haplotypes and phased genotypes\n",
    "* Efficient variable-precision bit reapresntations\n",
    "* Per-variant compression $\\rightarrow$ easy to index \n",
    "    * Supported compression method: [zlib](http://www.zlib.net/) and [Zstandard](https://facebook.github.io/zstd/). \n",
    "    * Index files are often provided as `.bgen.bgi` files, which are plain [SQLite3](http://www.sqlite.org) databases."
   ]
  },
  {
   "cell_type": "markdown",
   "metadata": {
    "slideshow": {
     "slide_type": "fragment"
    }
   },
   "source": [
    "Time to list variant identifying information (genomic location, ID and alleles): 18,496 samples, 121,668 SNPs\n",
    "(image source: https://www.well.ox.ac.uk/~gav/bgen_format/images/bgen_comparison.png)\n",
    "![](https://www.well.ox.ac.uk/~gav/bgen_format/images/bgen_comparison.png)\n",
    "\n",
    "_Plink 1 format (`.bed`/`.bim`/`.fam`) has the list of variants as a separate file (`.bim`), effectively zero time._"
   ]
  },
  {
   "cell_type": "markdown",
   "metadata": {
    "slideshow": {
     "slide_type": "slide"
    }
   },
   "source": [
    "### Structure\n",
    "\n",
    "A header block followed by a series of [variant data block - (compressed) genotype data block] pairs.\n",
    "* Header block \n",
    "    * number of variants and samples\n",
    "    * compression method (none, zlib or zstandard)\n",
    "    * version of layout \n",
    "        * Only \"layout 2\" is discussed below. \"Layout 1\" is also supported.\n",
    "    * sample identifiers (optional)\n"
   ]
  },
  {
   "cell_type": "markdown",
   "metadata": {
    "slideshow": {
     "slide_type": "slide"
    }
   },
   "source": [
    "* Variant data block\n",
    "    * variant id\n",
    "    * genomic position (chromosome, bp coordinate)\n",
    "    * list of alleles\n",
    "* Genotype data block (often compressed)\n",
    "    * ploidy of each sample (may vary sample-by-sample)\n",
    "    * if the genotype data are phased\n",
    "    * precision ($B$, number of bits to represent probabilities)\n",
    "    * probabilitiy data (e.g. an unsigned $B$-bit integer $x$ represents the probability of ($\\frac{x}{2^{B}-1}$)\n",
    "\n",
    "_`BGEN.jl` provides tools for iterating over the variants and parsing genotype data efficiently. It has been optimized for UK Biobank's zlib-compressed, 8-bit byte-aligned, all-diploid, all-biallelic datafiles._"
   ]
  },
  {
   "cell_type": "markdown",
   "metadata": {
    "slideshow": {
     "slide_type": "-"
    }
   },
   "source": [
    "## Installation\n",
    "\n",
    "This package requires Julia v1.0 or later, which can be obtained from\n",
    "https://julialang.org/downloads/ or by building Julia from the sources in the\n",
    "https://github.com/JuliaLang/julia repository.\n",
    "\n",
    "The package has not yet been registered and must be installed using the repository location. \n",
    "It can be done with the following Julia code:\n",
    "```julia\n",
    "using Pkg\n",
    "pkg\"add https://github.com/OpenMendel/BGEN.jl\"\n",
    "```"
   ]
  },
  {
   "cell_type": "code",
   "execution_count": 1,
   "metadata": {
    "slideshow": {
     "slide_type": "-"
    }
   },
   "outputs": [
    {
     "name": "stdout",
     "output_type": "stream",
     "text": [
      "Julia Version 1.5.2\n",
      "Commit 539f3ce943 (2020-09-23 23:17 UTC)\n",
      "Platform Info:\n",
      "  OS: Linux (x86_64-pc-linux-gnu)\n",
      "  CPU: Intel(R) Xeon(R) Silver 4114 CPU @ 2.20GHz\n",
      "  WORD_SIZE: 64\n",
      "  LIBM: libopenlibm\n",
      "  LLVM: libLLVM-9.0.1 (ORCJIT, skylake-avx512)\n"
     ]
    }
   ],
   "source": [
    "versioninfo()"
   ]
  },
  {
   "cell_type": "code",
   "execution_count": 2,
   "metadata": {},
   "outputs": [
    {
     "name": "stderr",
     "output_type": "stream",
     "text": [
      "┌ Info: Precompiling BGEN [6db4b851-9beb-4b83-9d64-eb1cfb37721d]\n",
      "└ @ Base loading.jl:1278\n"
     ]
    }
   ],
   "source": [
    "using BGEN, Glob"
   ]
  },
  {
   "cell_type": "markdown",
   "metadata": {},
   "source": [
    "## Example Data"
   ]
  },
  {
   "cell_type": "markdown",
   "metadata": {},
   "source": [
    "The example datafiles are stored in `/data` directory of this repository. It can be accessed through the function `BGEN.datadir()`. "
   ]
  },
  {
   "cell_type": "code",
   "execution_count": 3,
   "metadata": {},
   "outputs": [
    {
     "data": {
      "text/plain": [
       "78-element Array{String,1}:\n",
       " \"/home/kose/.julia/dev/BGEN/src/../data/complex.10bits.bgen\"\n",
       " \"/home/kose/.julia/dev/BGEN/src/../data/complex.11bits.bgen\"\n",
       " \"/home/kose/.julia/dev/BGEN/src/../data/complex.12bits.bgen\"\n",
       " \"/home/kose/.julia/dev/BGEN/src/../data/complex.13bits.bgen\"\n",
       " \"/home/kose/.julia/dev/BGEN/src/../data/complex.14bits.bgen\"\n",
       " \"/home/kose/.julia/dev/BGEN/src/../data/complex.15bits.bgen\"\n",
       " \"/home/kose/.julia/dev/BGEN/src/../data/complex.16bits.bgen\"\n",
       " \"/home/kose/.julia/dev/BGEN/src/../data/complex.17bits.bgen\"\n",
       " \"/home/kose/.julia/dev/BGEN/src/../data/complex.18bits.bgen\"\n",
       " \"/home/kose/.julia/dev/BGEN/src/../data/complex.19bits.bgen\"\n",
       " \"/home/kose/.julia/dev/BGEN/src/../data/complex.1bits.bgen\"\n",
       " \"/home/kose/.julia/dev/BGEN/src/../data/complex.20bits.bgen\"\n",
       " \"/home/kose/.julia/dev/BGEN/src/../data/complex.21bits.bgen\"\n",
       " ⋮\n",
       " \"/home/kose/.julia/dev/BGEN/src/../data/example.6bits.bgen\"\n",
       " \"/home/kose/.julia/dev/BGEN/src/../data/example.7bits.bgen\"\n",
       " \"/home/kose/.julia/dev/BGEN/src/../data/example.8bits.bgen\"\n",
       " \"/home/kose/.julia/dev/BGEN/src/../data/example.8bits.bgen.bgi\"\n",
       " \"/home/kose/.julia/dev/BGEN/src/../data/example.9bits.bgen\"\n",
       " \"/home/kose/.julia/dev/BGEN/src/../data/example.gen\"\n",
       " \"/home/kose/.julia/dev/BGEN/src/../data/example.sample\"\n",
       " \"/home/kose/.julia/dev/BGEN/src/../data/example.v11.bgen\"\n",
       " \"/home/kose/.julia/dev/BGEN/src/../data/examples.16bits.bgen\"\n",
       " \"/home/kose/.julia/dev/BGEN/src/../data/haplotypes.bgen\"\n",
       " \"/home/kose/.julia/dev/BGEN/src/../data/haplotypes.bgen.bgi\"\n",
       " \"/home/kose/.julia/dev/BGEN/src/../data/haplotypes.haps\""
      ]
     },
     "execution_count": 3,
     "metadata": {},
     "output_type": "execute_result"
    }
   ],
   "source": [
    "Glob.glob(\"*\", BGEN.datadir())"
   ]
  },
  {
   "cell_type": "markdown",
   "metadata": {},
   "source": [
    "There are three different datasets with different format versions, compressions, or number of bits to represent probability values. \n",
    "\n",
    "- `example.*.bgen`: imputed genotypes. \n",
    "- `haplotypes.bgen`: phased haplotypes. \n",
    "- `complex.*.bgen`: includes both multiallelic imputed genotypes and multiallelic phased haplotypes.\n",
    "\n",
    "Some of the `.bgen` files are indexed with `.bgen.bgi` files:"
   ]
  },
  {
   "cell_type": "code",
   "execution_count": 4,
   "metadata": {},
   "outputs": [
    {
     "data": {
      "text/plain": [
       "4-element Array{String,1}:\n",
       " \"/home/kose/.julia/dev/BGEN/src/../data/complex.bgen.bgi\"\n",
       " \"/home/kose/.julia/dev/BGEN/src/../data/example.16bits.bgen.bgi\"\n",
       " \"/home/kose/.julia/dev/BGEN/src/../data/example.8bits.bgen.bgi\"\n",
       " \"/home/kose/.julia/dev/BGEN/src/../data/haplotypes.bgen.bgi\""
      ]
     },
     "execution_count": 4,
     "metadata": {},
     "output_type": "execute_result"
    }
   ],
   "source": [
    "Glob.glob(\"*.bgen.bgi\", BGEN.datadir())"
   ]
  },
  {
   "cell_type": "markdown",
   "metadata": {},
   "source": [
    "Sample identifiers may be either contained in the `.bgen` file, or is listed in an external `.sample` file."
   ]
  },
  {
   "cell_type": "code",
   "execution_count": 5,
   "metadata": {},
   "outputs": [
    {
     "data": {
      "text/plain": [
       "2-element Array{String,1}:\n",
       " \"/home/kose/.julia/dev/BGEN/src/../data/complex.sample\"\n",
       " \"/home/kose/.julia/dev/BGEN/src/../data/example.sample\""
      ]
     },
     "execution_count": 5,
     "metadata": {},
     "output_type": "execute_result"
    }
   ],
   "source": [
    "Glob.glob(\"*.sample\", BGEN.datadir())"
   ]
  },
  {
   "cell_type": "markdown",
   "metadata": {},
   "source": [
    "## Type `Bgen`\n",
    "The type `Bgen` is the fundamental type for `.bgen`-formatted files. It can be created using the following line."
   ]
  },
  {
   "cell_type": "code",
   "execution_count": 6,
   "metadata": {},
   "outputs": [
    {
     "data": {
      "text/plain": [
       "Bgen(IOStream(<file /home/kose/.julia/dev/BGEN/src/../data/example.8bits.bgen>), 0x000000000001f6ea, BGEN.Header(0x0000178c, 0x00000014, 0x000000c7, 0x000001f4, 0x01, 0x02, true), [\"sample_001\", \"sample_002\", \"sample_003\", \"sample_004\", \"sample_005\", \"sample_006\", \"sample_007\", \"sample_008\", \"sample_009\", \"sample_010\"  …  \"sample_491\", \"sample_492\", \"sample_493\", \"sample_494\", \"sample_495\", \"sample_496\", \"sample_497\", \"sample_498\", \"sample_499\", \"sample_500\"], Index(\"/home/kose/.julia/dev/BGEN/src/../data/example.8bits.bgen.bgi\", SQLite.DB(\"/home/kose/.julia/dev/BGEN/src/../data/example.8bits.bgen.bgi\"), UInt32[], String[], String[], UInt32[]))"
      ]
     },
     "execution_count": 6,
     "metadata": {},
     "output_type": "execute_result"
    }
   ],
   "source": [
    "b = Bgen(BGEN.datadir(\"example.8bits.bgen\"); \n",
    "    sample_path=BGEN.datadir(\"example.sample\"), \n",
    "    idx_path=BGEN.datadir(\"example.8bits.bgen.bgi\"))"
   ]
  },
  {
   "cell_type": "markdown",
   "metadata": {},
   "source": [
    "The first argument is the path to the `.bgen` file. The optional keyword argument `sample_path` defines the location of  the `.sample` file. The second optional keyword argument `idx_path` determines the location of `.bgen.bgi` file. "
   ]
  },
  {
   "cell_type": "markdown",
   "metadata": {},
   "source": [
    "When a `Bgen` object is created, information in the header is parsed, and the index files are loaded if provided. You may retrieve basic information as follows. Variants are not yet parsed, and will be discussed later. \n",
    "\n",
    "- `io(b::Bgen)`: IOStream for the bgen file. You may also close this stream using `close(b::Bgen)`.\n",
    "- `fsize(b::Bgen)`: the size of the bgen file.\n",
    "- `samples(b::Bgen)`: the list of sample names. \n",
    "- `n_samples(b::Bgen)`: number of samples in the file.\n",
    "- `n_variants(b::Bgen)`: number of variants\n",
    "- `compression(b::Bgen)`: the method each genotype block is compressed. It is either \"None\", \"Zlib\", or \"Zstd\".  "
   ]
  },
  {
   "cell_type": "code",
   "execution_count": 7,
   "metadata": {},
   "outputs": [
    {
     "data": {
      "text/plain": [
       "IOStream(<file /home/kose/.julia/dev/BGEN/src/../data/example.8bits.bgen>)"
      ]
     },
     "execution_count": 7,
     "metadata": {},
     "output_type": "execute_result"
    }
   ],
   "source": [
    "io(b)"
   ]
  },
  {
   "cell_type": "code",
   "execution_count": 8,
   "metadata": {},
   "outputs": [
    {
     "data": {
      "text/plain": [
       "128746"
      ]
     },
     "execution_count": 8,
     "metadata": {},
     "output_type": "execute_result"
    }
   ],
   "source": [
    "fsize(b)"
   ]
  },
  {
   "cell_type": "code",
   "execution_count": 9,
   "metadata": {},
   "outputs": [
    {
     "data": {
      "text/plain": [
       "500-element Array{String,1}:\n",
       " \"sample_001\"\n",
       " \"sample_002\"\n",
       " \"sample_003\"\n",
       " \"sample_004\"\n",
       " \"sample_005\"\n",
       " \"sample_006\"\n",
       " \"sample_007\"\n",
       " \"sample_008\"\n",
       " \"sample_009\"\n",
       " \"sample_010\"\n",
       " \"sample_011\"\n",
       " \"sample_012\"\n",
       " \"sample_013\"\n",
       " ⋮\n",
       " \"sample_489\"\n",
       " \"sample_490\"\n",
       " \"sample_491\"\n",
       " \"sample_492\"\n",
       " \"sample_493\"\n",
       " \"sample_494\"\n",
       " \"sample_495\"\n",
       " \"sample_496\"\n",
       " \"sample_497\"\n",
       " \"sample_498\"\n",
       " \"sample_499\"\n",
       " \"sample_500\""
      ]
     },
     "execution_count": 9,
     "metadata": {},
     "output_type": "execute_result"
    }
   ],
   "source": [
    "samples(b)"
   ]
  },
  {
   "cell_type": "code",
   "execution_count": 10,
   "metadata": {},
   "outputs": [
    {
     "data": {
      "text/plain": [
       "500"
      ]
     },
     "execution_count": 10,
     "metadata": {},
     "output_type": "execute_result"
    }
   ],
   "source": [
    "n_samples(b)"
   ]
  },
  {
   "cell_type": "code",
   "execution_count": 11,
   "metadata": {},
   "outputs": [
    {
     "data": {
      "text/plain": [
       "199"
      ]
     },
     "execution_count": 11,
     "metadata": {},
     "output_type": "execute_result"
    }
   ],
   "source": [
    "n_variants(b)"
   ]
  },
  {
   "cell_type": "code",
   "execution_count": 12,
   "metadata": {},
   "outputs": [
    {
     "data": {
      "text/plain": [
       "\"Zlib\""
      ]
     },
     "execution_count": 12,
     "metadata": {},
     "output_type": "execute_result"
    }
   ],
   "source": [
    "compression(b)"
   ]
  },
  {
   "cell_type": "markdown",
   "metadata": {},
   "source": [
    "One may also access the list of RSIDs, chromosomes, and positions in chromosome of each variant stored using functions `rsids()`, `chroms()`, and `positions()`, respectively. "
   ]
  },
  {
   "cell_type": "code",
   "execution_count": 13,
   "metadata": {},
   "outputs": [
    {
     "data": {
      "text/plain": [
       "199-element Array{String,1}:\n",
       " \"RSID_101\"\n",
       " \"RSID_2\"\n",
       " \"RSID_102\"\n",
       " \"RSID_3\"\n",
       " \"RSID_103\"\n",
       " \"RSID_4\"\n",
       " \"RSID_104\"\n",
       " \"RSID_5\"\n",
       " \"RSID_105\"\n",
       " \"RSID_6\"\n",
       " \"RSID_106\"\n",
       " \"RSID_7\"\n",
       " \"RSID_107\"\n",
       " ⋮\n",
       " \"RSID_194\"\n",
       " \"RSID_95\"\n",
       " \"RSID_195\"\n",
       " \"RSID_96\"\n",
       " \"RSID_196\"\n",
       " \"RSID_97\"\n",
       " \"RSID_197\"\n",
       " \"RSID_98\"\n",
       " \"RSID_198\"\n",
       " \"RSID_99\"\n",
       " \"RSID_199\"\n",
       " \"RSID_200\""
      ]
     },
     "execution_count": 13,
     "metadata": {},
     "output_type": "execute_result"
    }
   ],
   "source": [
    "rsids(b)"
   ]
  },
  {
   "cell_type": "code",
   "execution_count": 14,
   "metadata": {},
   "outputs": [
    {
     "data": {
      "text/plain": [
       "199-element Array{String,1}:\n",
       " \"01\"\n",
       " \"01\"\n",
       " \"01\"\n",
       " \"01\"\n",
       " \"01\"\n",
       " \"01\"\n",
       " \"01\"\n",
       " \"01\"\n",
       " \"01\"\n",
       " \"01\"\n",
       " \"01\"\n",
       " \"01\"\n",
       " \"01\"\n",
       " ⋮\n",
       " \"01\"\n",
       " \"01\"\n",
       " \"01\"\n",
       " \"01\"\n",
       " \"01\"\n",
       " \"01\"\n",
       " \"01\"\n",
       " \"01\"\n",
       " \"01\"\n",
       " \"01\"\n",
       " \"01\"\n",
       " \"01\""
      ]
     },
     "execution_count": 14,
     "metadata": {},
     "output_type": "execute_result"
    }
   ],
   "source": [
    "chroms(b)"
   ]
  },
  {
   "cell_type": "code",
   "execution_count": 15,
   "metadata": {},
   "outputs": [
    {
     "data": {
      "text/plain": [
       "199-element Array{Int64,1}:\n",
       "   1001\n",
       "   2000\n",
       "   2001\n",
       "   3000\n",
       "   3001\n",
       "   4000\n",
       "   4001\n",
       "   5000\n",
       "   5001\n",
       "   6000\n",
       "   6001\n",
       "   7000\n",
       "   7001\n",
       "      ⋮\n",
       "  94001\n",
       "  95000\n",
       "  95001\n",
       "  96000\n",
       "  96001\n",
       "  97000\n",
       "  97001\n",
       "  98000\n",
       "  98001\n",
       "  99000\n",
       "  99001\n",
       " 100001"
      ]
     },
     "execution_count": 15,
     "metadata": {},
     "output_type": "execute_result"
    }
   ],
   "source": [
    "positions(b)"
   ]
  },
  {
   "cell_type": "markdown",
   "metadata": {},
   "source": [
    "## `Variant` and `VariantIterator`"
   ]
  },
  {
   "cell_type": "markdown",
   "metadata": {},
   "source": [
    "As noted earlier, genotype information of each variant is compressed separately in `.bgen` files. The offsets (starting points in bgen file) of the genotypes may or may not be indexed by an external `.bgen.bgi` file. Thus, two ways to iterate over variants is provided through the function `iterator(b; offsets=nothing, from_bgen_start=false)`. \n",
    "- If `offsets` is provided, or `.bgen.bgi` is provided and \n",
    "`from_bgen_start` is `false`, it returns a `VariantIteratorFromOffsets`, iterating over the list of offsets.\n",
    "- Otherwise, it returns a `VariantIteratorFromStart`, iterating from the start of bgen file to the end of it sequentially. \n",
    "`VariantIteratorFromOffsets` and `VariantIteratorFromStart` are the subtypes of `VariantIterator`. "
   ]
  },
  {
   "cell_type": "markdown",
   "metadata": {},
   "source": [
    "Each element of `VariantIterator` is a `Variant`, containing the information of variants. We have following utility functions to access its information.\n",
    "- `n_samples(v::Variant)`\n",
    "- `varid(v::Variant)`\n",
    "- `rsid(v::Variant)`\n",
    "- `chrom(v::Variant)`\n",
    "- `pos(v::Variant)`\n",
    "- `n_alleles(v::Variant)`: number of alleles.\n",
    "- `alleles(v::Variant)`: list of alleles.\n",
    "\n",
    "Merely the basic information of a variant is parsed for creating a `Variant` object. Nothing is decompressed, and genotype probabilities are not yet parsed yet. Decompression happens lazily, and is delayed until when we try to compute genotype probabilites or minor allele dosages (to be discussed later)."
   ]
  },
  {
   "cell_type": "markdown",
   "metadata": {},
   "source": [
    "Since `.bgen.bgi` file is provided, the following order is based on the index file, sorted by genomic location."
   ]
  },
  {
   "cell_type": "code",
   "execution_count": 16,
   "metadata": {},
   "outputs": [
    {
     "name": "stdout",
     "output_type": "stream",
     "text": [
      "RSID_101\n",
      "RSID_2\n",
      "RSID_102\n",
      "RSID_3\n",
      "RSID_103\n",
      "RSID_4\n",
      "RSID_104\n",
      "RSID_5\n",
      "RSID_105\n",
      "RSID_6\n",
      "RSID_106\n",
      "RSID_7\n",
      "RSID_107\n",
      "RSID_8\n",
      "RSID_108\n",
      "RSID_9\n",
      "RSID_109\n",
      "RSID_10\n",
      "RSID_100\n",
      "RSID_110\n",
      "RSID_11\n",
      "RSID_111\n",
      "RSID_12\n",
      "RSID_112\n",
      "RSID_13\n",
      "RSID_113\n",
      "RSID_14\n",
      "RSID_114\n",
      "RSID_15\n",
      "RSID_115\n",
      "RSID_16\n",
      "RSID_116\n",
      "RSID_17\n",
      "RSID_117\n",
      "RSID_18\n",
      "RSID_118\n",
      "RSID_19\n",
      "RSID_119\n",
      "RSID_20\n",
      "RSID_120\n",
      "RSID_21\n",
      "RSID_121\n",
      "RSID_22\n",
      "RSID_122\n",
      "RSID_23\n",
      "RSID_123\n",
      "RSID_24\n",
      "RSID_124\n",
      "RSID_25\n",
      "RSID_125\n",
      "RSID_26\n",
      "RSID_126\n",
      "RSID_27\n",
      "RSID_127\n",
      "RSID_28\n",
      "RSID_128\n",
      "RSID_29\n",
      "RSID_129\n",
      "RSID_30\n",
      "RSID_130\n",
      "RSID_31\n",
      "RSID_131\n",
      "RSID_32\n",
      "RSID_132\n",
      "RSID_33\n",
      "RSID_133\n",
      "RSID_34\n",
      "RSID_134\n",
      "RSID_35\n",
      "RSID_135\n",
      "RSID_36\n",
      "RSID_136\n",
      "RSID_37\n",
      "RSID_137\n",
      "RSID_38\n",
      "RSID_138\n",
      "RSID_39\n",
      "RSID_139\n",
      "RSID_40\n",
      "RSID_140\n",
      "RSID_41\n",
      "RSID_141\n",
      "RSID_42\n",
      "RSID_142\n",
      "RSID_43\n",
      "RSID_143\n",
      "RSID_44\n",
      "RSID_144\n",
      "RSID_45\n",
      "RSID_145\n",
      "RSID_46\n",
      "RSID_146\n",
      "RSID_47\n",
      "RSID_147\n",
      "RSID_48\n",
      "RSID_148\n",
      "RSID_49\n",
      "RSID_149\n",
      "RSID_50\n",
      "RSID_150\n",
      "RSID_51\n",
      "RSID_151\n",
      "RSID_52\n",
      "RSID_152\n",
      "RSID_53\n",
      "RSID_153\n",
      "RSID_54\n",
      "RSID_154\n",
      "RSID_55\n",
      "RSID_155\n",
      "RSID_56\n",
      "RSID_156\n",
      "RSID_57\n",
      "RSID_157\n",
      "RSID_58\n",
      "RSID_158\n",
      "RSID_59\n",
      "RSID_159\n",
      "RSID_60\n",
      "RSID_160\n",
      "RSID_61\n",
      "RSID_161\n",
      "RSID_62\n",
      "RSID_162\n",
      "RSID_63\n",
      "RSID_163\n",
      "RSID_64\n",
      "RSID_164\n",
      "RSID_65\n",
      "RSID_165\n",
      "RSID_66\n",
      "RSID_166\n",
      "RSID_67\n",
      "RSID_167\n",
      "RSID_68\n",
      "RSID_168\n",
      "RSID_69\n",
      "RSID_169\n",
      "RSID_70\n",
      "RSID_170\n",
      "RSID_71\n",
      "RSID_171\n",
      "RSID_72\n",
      "RSID_172\n",
      "RSID_73\n",
      "RSID_173\n",
      "RSID_74\n",
      "RSID_174\n",
      "RSID_75\n",
      "RSID_175\n",
      "RSID_76\n",
      "RSID_176\n",
      "RSID_77\n",
      "RSID_177\n",
      "RSID_78\n",
      "RSID_178\n",
      "RSID_79\n",
      "RSID_179\n",
      "RSID_80\n",
      "RSID_180\n",
      "RSID_81\n",
      "RSID_181\n",
      "RSID_82\n",
      "RSID_182\n",
      "RSID_83\n",
      "RSID_183\n",
      "RSID_84\n",
      "RSID_184\n",
      "RSID_85\n",
      "RSID_185\n",
      "RSID_86\n",
      "RSID_186\n",
      "RSID_87\n",
      "RSID_187\n",
      "RSID_88\n",
      "RSID_188\n",
      "RSID_89\n",
      "RSID_189\n",
      "RSID_90\n",
      "RSID_190\n",
      "RSID_91\n",
      "RSID_191\n",
      "RSID_92\n",
      "RSID_192\n",
      "RSID_93\n",
      "RSID_193\n",
      "RSID_94\n",
      "RSID_194\n",
      "RSID_95\n",
      "RSID_195\n",
      "RSID_96\n",
      "RSID_196\n",
      "RSID_97\n",
      "RSID_197\n",
      "RSID_98\n",
      "RSID_198\n",
      "RSID_99\n",
      "RSID_199\n",
      "RSID_200\n"
     ]
    }
   ],
   "source": [
    "for v in iterator(b) # \n",
    "    println(rsid(v))\n",
    "end"
   ]
  },
  {
   "cell_type": "markdown",
   "metadata": {},
   "source": [
    "Setting `from_bgen_start=true` forces the iterator to iterate in the order of appearence in the bgen file. This may be different from the order in the index file."
   ]
  },
  {
   "cell_type": "code",
   "execution_count": 17,
   "metadata": {},
   "outputs": [
    {
     "name": "stdout",
     "output_type": "stream",
     "text": [
      "RSID_2\n",
      "RSID_3\n",
      "RSID_4\n",
      "RSID_5\n",
      "RSID_6\n",
      "RSID_7\n",
      "RSID_8\n",
      "RSID_9\n",
      "RSID_10\n",
      "RSID_11\n",
      "RSID_12\n",
      "RSID_13\n",
      "RSID_14\n",
      "RSID_15\n",
      "RSID_16\n",
      "RSID_17\n",
      "RSID_18\n",
      "RSID_19\n",
      "RSID_20\n",
      "RSID_21\n",
      "RSID_22\n",
      "RSID_23\n",
      "RSID_24\n",
      "RSID_25\n",
      "RSID_26\n",
      "RSID_27\n",
      "RSID_28\n",
      "RSID_29\n",
      "RSID_30\n",
      "RSID_31\n",
      "RSID_32\n",
      "RSID_33\n",
      "RSID_34\n",
      "RSID_35\n",
      "RSID_36\n",
      "RSID_37\n",
      "RSID_38\n",
      "RSID_39\n",
      "RSID_40\n",
      "RSID_41\n",
      "RSID_42\n",
      "RSID_43\n",
      "RSID_44\n",
      "RSID_45\n",
      "RSID_46\n",
      "RSID_47\n",
      "RSID_48\n",
      "RSID_49\n",
      "RSID_50\n",
      "RSID_51\n",
      "RSID_52\n",
      "RSID_53\n",
      "RSID_54\n",
      "RSID_55\n",
      "RSID_56\n",
      "RSID_57\n",
      "RSID_58\n",
      "RSID_59\n",
      "RSID_60\n",
      "RSID_61\n",
      "RSID_62\n",
      "RSID_63\n",
      "RSID_64\n",
      "RSID_65\n",
      "RSID_66\n",
      "RSID_67\n",
      "RSID_68\n",
      "RSID_69\n",
      "RSID_70\n",
      "RSID_71\n",
      "RSID_72\n",
      "RSID_73\n",
      "RSID_74\n",
      "RSID_75\n",
      "RSID_76\n",
      "RSID_77\n",
      "RSID_78\n",
      "RSID_79\n",
      "RSID_80\n",
      "RSID_81\n",
      "RSID_82\n",
      "RSID_83\n",
      "RSID_84\n",
      "RSID_85\n",
      "RSID_86\n",
      "RSID_87\n",
      "RSID_88\n",
      "RSID_89\n",
      "RSID_90\n",
      "RSID_91\n",
      "RSID_92\n",
      "RSID_93\n",
      "RSID_94\n",
      "RSID_95\n",
      "RSID_96\n",
      "RSID_97\n",
      "RSID_98\n",
      "RSID_99\n",
      "RSID_100\n",
      "RSID_101\n",
      "RSID_102\n",
      "RSID_103\n",
      "RSID_104\n",
      "RSID_105\n",
      "RSID_106\n",
      "RSID_107\n",
      "RSID_108\n",
      "RSID_109\n",
      "RSID_110\n",
      "RSID_111\n",
      "RSID_112\n",
      "RSID_113\n",
      "RSID_114\n",
      "RSID_115\n",
      "RSID_116\n",
      "RSID_117\n",
      "RSID_118\n",
      "RSID_119\n",
      "RSID_120\n",
      "RSID_121\n",
      "RSID_122\n",
      "RSID_123\n",
      "RSID_124\n",
      "RSID_125\n",
      "RSID_126\n",
      "RSID_127\n",
      "RSID_128\n",
      "RSID_129\n",
      "RSID_130\n",
      "RSID_131\n",
      "RSID_132\n",
      "RSID_133\n",
      "RSID_134\n",
      "RSID_135\n",
      "RSID_136\n",
      "RSID_137\n",
      "RSID_138\n",
      "RSID_139\n",
      "RSID_140\n",
      "RSID_141\n",
      "RSID_142\n",
      "RSID_143\n",
      "RSID_144\n",
      "RSID_145\n",
      "RSID_146\n",
      "RSID_147\n",
      "RSID_148\n",
      "RSID_149\n",
      "RSID_150\n",
      "RSID_151\n",
      "RSID_152\n",
      "RSID_153\n",
      "RSID_154\n",
      "RSID_155\n",
      "RSID_156\n",
      "RSID_157\n",
      "RSID_158\n",
      "RSID_159\n",
      "RSID_160\n",
      "RSID_161\n",
      "RSID_162\n",
      "RSID_163\n",
      "RSID_164\n",
      "RSID_165\n",
      "RSID_166\n",
      "RSID_167\n",
      "RSID_168\n",
      "RSID_169\n",
      "RSID_170\n",
      "RSID_171\n",
      "RSID_172\n",
      "RSID_173\n",
      "RSID_174\n",
      "RSID_175\n",
      "RSID_176\n",
      "RSID_177\n",
      "RSID_178\n",
      "RSID_179\n",
      "RSID_180\n",
      "RSID_181\n",
      "RSID_182\n",
      "RSID_183\n",
      "RSID_184\n",
      "RSID_185\n",
      "RSID_186\n",
      "RSID_187\n",
      "RSID_188\n",
      "RSID_189\n",
      "RSID_190\n",
      "RSID_191\n",
      "RSID_192\n",
      "RSID_193\n",
      "RSID_194\n",
      "RSID_195\n",
      "RSID_196\n",
      "RSID_197\n",
      "RSID_198\n",
      "RSID_199\n",
      "RSID_200\n"
     ]
    }
   ],
   "source": [
    "for v in iterator(b; from_bgen_start=true)\n",
    "    println(rsid(v))\n",
    "end"
   ]
  },
  {
   "cell_type": "markdown",
   "metadata": {},
   "source": [
    "With the presence of `.bgen.bgi` index file, one may select variants on a certain region using the function `select_region(b, chrom; start=nothing, stop=nothing)`.  "
   ]
  },
  {
   "cell_type": "markdown",
   "metadata": {},
   "source": [
    "The following shows that all 199 variants in the bgen file are located on chromosome 01.  "
   ]
  },
  {
   "cell_type": "code",
   "execution_count": 18,
   "metadata": {},
   "outputs": [
    {
     "data": {
      "text/plain": [
       "199"
      ]
     },
     "execution_count": 18,
     "metadata": {},
     "output_type": "execute_result"
    }
   ],
   "source": [
    "length(select_region(b, \"01\"))"
   ]
  },
  {
   "cell_type": "markdown",
   "metadata": {},
   "source": [
    "We can see that the first variant since position 5000 at chromosome 01 is \"RSID_5\":  "
   ]
  },
  {
   "cell_type": "code",
   "execution_count": 19,
   "metadata": {},
   "outputs": [
    {
     "data": {
      "text/plain": [
       "Variant(0x0000000000001ef8, 0x0000000000001f21, 0x0000000000002169, 0x00000248, 0x000001f4, \"SNPID_5\", \"RSID_5\", \"01\", 0x00001388, 0x0002, [\"A\", \"G\"], Genotypes[])"
      ]
     },
     "execution_count": 19,
     "metadata": {},
     "output_type": "execute_result"
    }
   ],
   "source": [
    "first(select_region(b, \"01\"; start=5000))"
   ]
  },
  {
   "cell_type": "markdown",
   "metadata": {},
   "source": [
    "And that the number of variants in chr01:5000-50000 is 92. "
   ]
  },
  {
   "cell_type": "code",
   "execution_count": 20,
   "metadata": {},
   "outputs": [
    {
     "data": {
      "text/plain": [
       "92"
      ]
     },
     "execution_count": 20,
     "metadata": {},
     "output_type": "execute_result"
    }
   ],
   "source": [
    "length(select_region(b, \"01\"; start=5000, stop=50000))"
   ]
  },
  {
   "cell_type": "markdown",
   "metadata": {},
   "source": [
    "Finally, one may use the `parse_variants()` function to retrieve the variant information as a `Vector{Variant}`. This is equivalent to calling `collect()` on the corresponding `VariantIterator`. It takes the same arguments as `iterator()`. This keeps all the information of variants in-memory. If the size of bgen file is too large, you might want to avoid this."
   ]
  },
  {
   "cell_type": "code",
   "execution_count": 21,
   "metadata": {},
   "outputs": [
    {
     "data": {
      "text/plain": [
       "199-element Array{Variant,1}:\n",
       " Variant(0x0000000000001790, 0x00000000000017b9, 0x0000000000001a82, 0x000002c9, 0x000001f4, \"SNPID_2\", \"RSID_2\", \"01\", 0x000007d0, 0x0002, [\"A\", \"G\"], Genotypes[])\n",
       " Variant(0x0000000000001a82, 0x0000000000001aab, 0x0000000000001ced, 0x00000242, 0x000001f4, \"SNPID_3\", \"RSID_3\", \"01\", 0x00000bb8, 0x0002, [\"A\", \"G\"], Genotypes[])\n",
       " Variant(0x0000000000001ced, 0x0000000000001d16, 0x0000000000001ef8, 0x000001e2, 0x000001f4, \"SNPID_4\", \"RSID_4\", \"01\", 0x00000fa0, 0x0002, [\"A\", \"G\"], Genotypes[])\n",
       " Variant(0x0000000000001ef8, 0x0000000000001f21, 0x0000000000002169, 0x00000248, 0x000001f4, \"SNPID_5\", \"RSID_5\", \"01\", 0x00001388, 0x0002, [\"A\", \"G\"], Genotypes[])\n",
       " Variant(0x0000000000002169, 0x0000000000002192, 0x0000000000002389, 0x000001f7, 0x000001f4, \"SNPID_6\", \"RSID_6\", \"01\", 0x00001770, 0x0002, [\"A\", \"G\"], Genotypes[])\n",
       " Variant(0x0000000000002389, 0x00000000000023b2, 0x00000000000025df, 0x0000022d, 0x000001f4, \"SNPID_7\", \"RSID_7\", \"01\", 0x00001b58, 0x0002, [\"A\", \"G\"], Genotypes[])\n",
       " Variant(0x00000000000025df, 0x0000000000002608, 0x00000000000027a4, 0x0000019c, 0x000001f4, \"SNPID_8\", \"RSID_8\", \"01\", 0x00001f40, 0x0002, [\"A\", \"G\"], Genotypes[])\n",
       " Variant(0x00000000000027a4, 0x00000000000027cd, 0x00000000000029de, 0x00000211, 0x000001f4, \"SNPID_9\", \"RSID_9\", \"01\", 0x00002328, 0x0002, [\"A\", \"G\"], Genotypes[])\n",
       " Variant(0x00000000000029de, 0x0000000000002a09, 0x0000000000002c43, 0x0000023a, 0x000001f4, \"SNPID_10\", \"RSID_10\", \"01\", 0x00002710, 0x0002, [\"A\", \"G\"], Genotypes[])\n",
       " Variant(0x0000000000002c43, 0x0000000000002c6e, 0x0000000000002e8a, 0x0000021c, 0x000001f4, \"SNPID_11\", \"RSID_11\", \"01\", 0x00002af8, 0x0002, [\"A\", \"G\"], Genotypes[])\n",
       " Variant(0x0000000000002e8a, 0x0000000000002eb5, 0x00000000000030e0, 0x0000022b, 0x000001f4, \"SNPID_12\", \"RSID_12\", \"01\", 0x00002ee0, 0x0002, [\"A\", \"G\"], Genotypes[])\n",
       " Variant(0x00000000000030e0, 0x000000000000310b, 0x0000000000003375, 0x0000026a, 0x000001f4, \"SNPID_13\", \"RSID_13\", \"01\", 0x000032c8, 0x0002, [\"A\", \"G\"], Genotypes[])\n",
       " Variant(0x0000000000003375, 0x00000000000033a0, 0x00000000000035dd, 0x0000023d, 0x000001f4, \"SNPID_14\", \"RSID_14\", \"01\", 0x000036b0, 0x0002, [\"A\", \"G\"], Genotypes[])\n",
       " ⋮\n",
       " Variant(0x000000000001d991, 0x000000000001d9be, 0x000000000001dc12, 0x00000254, 0x000001f4, \"SNPID_189\", \"RSID_189\", \"01\", 0x00015ba9, 0x0002, [\"A\", \"G\"], Genotypes[])\n",
       " Variant(0x000000000001dc12, 0x000000000001dc3f, 0x000000000001ddf2, 0x000001b3, 0x000001f4, \"SNPID_190\", \"RSID_190\", \"01\", 0x00015f91, 0x0002, [\"A\", \"G\"], Genotypes[])\n",
       " Variant(0x000000000001ddf2, 0x000000000001de1f, 0x000000000001e011, 0x000001f2, 0x000001f4, \"SNPID_191\", \"RSID_191\", \"01\", 0x00016379, 0x0002, [\"A\", \"G\"], Genotypes[])\n",
       " Variant(0x000000000001e011, 0x000000000001e03e, 0x000000000001e214, 0x000001d6, 0x000001f4, \"SNPID_192\", \"RSID_192\", \"01\", 0x00016761, 0x0002, [\"A\", \"G\"], Genotypes[])\n",
       " Variant(0x000000000001e214, 0x000000000001e241, 0x000000000001e407, 0x000001c6, 0x000001f4, \"SNPID_193\", \"RSID_193\", \"01\", 0x00016b49, 0x0002, [\"A\", \"G\"], Genotypes[])\n",
       " Variant(0x000000000001e407, 0x000000000001e434, 0x000000000001e6c9, 0x00000295, 0x000001f4, \"SNPID_194\", \"RSID_194\", \"01\", 0x00016f31, 0x0002, [\"A\", \"G\"], Genotypes[])\n",
       " Variant(0x000000000001e6c9, 0x000000000001e6f6, 0x000000000001e8e1, 0x000001eb, 0x000001f4, \"SNPID_195\", \"RSID_195\", \"01\", 0x00017319, 0x0002, [\"A\", \"G\"], Genotypes[])\n",
       " Variant(0x000000000001e8e1, 0x000000000001e90e, 0x000000000001ec86, 0x00000378, 0x000001f4, \"SNPID_196\", \"RSID_196\", \"01\", 0x00017701, 0x0002, [\"A\", \"G\"], Genotypes[])\n",
       " Variant(0x000000000001ec86, 0x000000000001ecb3, 0x000000000001ef8b, 0x000002d8, 0x000001f4, \"SNPID_197\", \"RSID_197\", \"01\", 0x00017ae9, 0x0002, [\"A\", \"G\"], Genotypes[])\n",
       " Variant(0x000000000001ef8b, 0x000000000001efb8, 0x000000000001f183, 0x000001cb, 0x000001f4, \"SNPID_198\", \"RSID_198\", \"01\", 0x00017ed1, 0x0002, [\"A\", \"G\"], Genotypes[])\n",
       " Variant(0x000000000001f183, 0x000000000001f1b0, 0x000000000001f3d4, 0x00000224, 0x000001f4, \"SNPID_199\", \"RSID_199\", \"01\", 0x000182b9, 0x0002, [\"A\", \"G\"], Genotypes[])\n",
       " Variant(0x000000000001f3d4, 0x000000000001f401, 0x000000000001f6ea, 0x000002e9, 0x000001f4, \"SNPID_200\", \"RSID_200\", \"01\", 0x000186a1, 0x0002, [\"A\", \"G\"], Genotypes[])"
      ]
     },
     "execution_count": 21,
     "metadata": {},
     "output_type": "execute_result"
    }
   ],
   "source": [
    "variants = parse_variants(b; from_bgen_start=true)"
   ]
  },
  {
   "cell_type": "markdown",
   "metadata": {},
   "source": [
    "If the index file (`.bgi`) is provided, the users may search for certain RSID in a BGEN file. "
   ]
  },
  {
   "cell_type": "code",
   "execution_count": 22,
   "metadata": {},
   "outputs": [
    {
     "data": {
      "text/plain": [
       "Variant(0x00000000000029de, 0x0000000000002a09, 0x0000000000002c43, 0x0000023a, 0x000001f4, \"SNPID_10\", \"RSID_10\", \"01\", 0x00002710, 0x0002, [\"A\", \"G\"], Genotypes[])"
      ]
     },
     "execution_count": 22,
     "metadata": {},
     "output_type": "execute_result"
    }
   ],
   "source": [
    "v = variant_by_rsid(b, \"RSID_10\")"
   ]
  },
  {
   "cell_type": "markdown",
   "metadata": {},
   "source": [
    "Also, the users may look for the `n`-th (1-based) variant with respect to genomic location."
   ]
  },
  {
   "cell_type": "code",
   "execution_count": 23,
   "metadata": {},
   "outputs": [
    {
     "data": {
      "text/plain": [
       "Variant(0x0000000000001a82, 0x0000000000001aab, 0x0000000000001ced, 0x00000242, 0x000001f4, \"SNPID_3\", \"RSID_3\", \"01\", 0x00000bb8, 0x0002, [\"A\", \"G\"], Genotypes[])"
      ]
     },
     "execution_count": 23,
     "metadata": {},
     "output_type": "execute_result"
    }
   ],
   "source": [
    "v = variant_by_index(b, 4)"
   ]
  },
  {
   "cell_type": "markdown",
   "metadata": {},
   "source": [
    "## Genotype/haplotype probabilities and minor allele dosage"
   ]
  },
  {
   "cell_type": "markdown",
   "metadata": {},
   "source": [
    "The genotype information is decompressed and parsed when probability data is needed. The parsing is triggered by a call to one of:\n",
    "- `probabilities!(b::Bgen, v::Variant; T=Float64)` : probability of each genotype/haplotype.\n",
    "- `minor_allele_dosage!(b::Bgen, v::Variant; T=Float64)` : minor allele dosage for a biallelic variant.\n",
    "\n",
    "Once parsed, the results are cached and loaded on any subsequent calls. \n",
    "After that, one may access genotype information using the following functions, as well as `probabilities!()` and `minor_allele_dosage!()`:\n",
    "- `phased(v::Variant)`: if the stored data is phased\n",
    "- `min_ploidy(v::Variant)`: minimum ploidy across the samples\n",
    "- `max_ploidy(v::Variant)`: maximum ploidy across the samples\n",
    "- `ploidy(v::Variant)` : Vector of ploidy for each sample\n",
    "- `bit_depth(v::Variant)` : number of bits used to represent a probability value\n",
    "- `missings(v::Variant)` : list of samples data is missing\n",
    "\n",
    "These functions are allowed after calling `minor_allele_dosage!()`:\n",
    "- `minor_allele(v::Variant)`\n",
    "- `major_allele(v::Variant)`"
   ]
  },
  {
   "cell_type": "markdown",
   "metadata": {},
   "source": [
    "If the data are not phased, `probabilities!(b, v)[i, j]` represents the probability of genotype `i` for sample `j`. Each column sums up to one. The genotypes are in [colex-order](https://en.wikipedia.org/wiki/Lexicographic_order#Colexicographic_order) of allele counts. For example, for three alleles with ploidy 3:\n",
    "\n",
    "| row index | allele counts | genotype |\n",
    "|---:|:---:|:---:|\n",
    "| 1 | (3, 0, 0) | 111 |\n",
    "| 2 | (2, 1, 0) | 112 |\n",
    "| 3 | (1, 2, 0) | 122 |\n",
    "| 4 | (0, 3, 0) | 222 |\n",
    "| 5 | (2, 0, 1) | 113 |\n",
    "| 6 | (1, 1, 1) | 123 |\n",
    "| 7 | (0, 2, 1) | 223 |\n",
    "| 8 | (1, 0, 2) | 133 |\n",
    "| 9 | (0, 1, 2) | 233 |\n",
    "| 10 | (0, 0, 3) | 333 |"
   ]
  },
  {
   "cell_type": "code",
   "execution_count": 24,
   "metadata": {},
   "outputs": [
    {
     "data": {
      "text/plain": [
       "3×500 Array{Float64,2}:\n",
       " NaN  0.027451    0.0156863  0.0235294  …  0.0156863  0.921569   0.00392157\n",
       " NaN  0.00784314  0.0509804  0.933333      0.027451   0.0509804  0.984314\n",
       " NaN  0.964706    0.933333   0.0431373     0.956863   0.027451   0.0117647"
      ]
     },
     "execution_count": 24,
     "metadata": {},
     "output_type": "execute_result"
    }
   ],
   "source": [
    "probabilities!(b, variants[1])"
   ]
  },
  {
   "cell_type": "markdown",
   "metadata": {},
   "source": [
    "Genotype data for sample 1 is missing in this case. "
   ]
  },
  {
   "cell_type": "code",
   "execution_count": 25,
   "metadata": {},
   "outputs": [
    {
     "data": {
      "text/plain": [
       "1-element Array{Int64,1}:\n",
       " 1"
      ]
     },
     "execution_count": 25,
     "metadata": {},
     "output_type": "execute_result"
    }
   ],
   "source": [
    "missings(variants[1])"
   ]
  },
  {
   "cell_type": "markdown",
   "metadata": {},
   "source": [
    "On the other hand, if the data are phased, `probabilities!(b, v)[i, j]` represents the probability that haplotype `(i - 1) ÷ n_alleles + 1` has allele `(i - 1) % n_alleles + 1` for sample `j`, where `n_alleles` is the number of alleles. The below is an example of phased probabilities. i.e., each column represents each sample, and each group of `n_alleles` rows represent the allele probabilities for each haplotype. In this case, ploidy is `[1, 2, 2, 2]`, thus indexes `[3:4, 1]` are invalid, and is filled with `NaN`."
   ]
  },
  {
   "cell_type": "code",
   "execution_count": 26,
   "metadata": {},
   "outputs": [
    {
     "data": {
      "text/plain": [
       "4×4 Array{Float64,2}:\n",
       "   1.0  0.0  1.0  1.0\n",
       "   0.0  1.0  0.0  0.0\n",
       " NaN    0.0  1.0  0.0\n",
       " NaN    1.0  0.0  1.0"
      ]
     },
     "execution_count": 26,
     "metadata": {},
     "output_type": "execute_result"
    }
   ],
   "source": [
    "b2 = Bgen(BGEN.datadir(\"complex.bgen\"))\n",
    "vs = parse_variants(b2)\n",
    "p = probabilities!(b2, vs[3])"
   ]
  },
  {
   "cell_type": "markdown",
   "metadata": {},
   "source": [
    "This variant has two possible alleles (allele 1: \"A\" and allele 2: \"G\"), and all the samples are diploids except for the first one, which is monoploid.\n",
    "\n",
    "It corresponds to a line of VCF file:\n",
    "\n",
    "```\n",
    "#CHROM  POS     ID      REF     ALT     QUAL    FILTER  INFO    FORMAT  sample_0        sample_1        sample_2        sample_3\n",
    "01      3       V3      A       G       .       .       .       GT:HP   0:1,0   1|1:0,1,0,1     0|0:1,0,1,0     0|1:1,0,0,1\n",
    "```\n",
    "\n",
    "So the first sample is monoploid of A, the second sample is homozygote A|A, the third sample is homozygote G|G, and the last sample is heterozygote A|G (phased). \n"
   ]
  },
  {
   "cell_type": "markdown",
   "metadata": {},
   "source": [
    "We can confirm the phasedness and ploidy of each sample as follows."
   ]
  },
  {
   "cell_type": "code",
   "execution_count": 27,
   "metadata": {},
   "outputs": [
    {
     "data": {
      "text/plain": [
       "0x01"
      ]
     },
     "execution_count": 27,
     "metadata": {},
     "output_type": "execute_result"
    }
   ],
   "source": [
    "phased(vs[3])"
   ]
  },
  {
   "cell_type": "code",
   "execution_count": 28,
   "metadata": {},
   "outputs": [
    {
     "data": {
      "text/plain": [
       "4-element Array{UInt8,1}:\n",
       " 0x01\n",
       " 0x02\n",
       " 0x02\n",
       " 0x02"
      ]
     },
     "execution_count": 28,
     "metadata": {},
     "output_type": "execute_result"
    }
   ],
   "source": [
    "ploidy(vs[3])"
   ]
  },
  {
   "cell_type": "code",
   "execution_count": 29,
   "metadata": {},
   "outputs": [
    {
     "data": {
      "text/plain": [
       "2-element Array{String,1}:\n",
       " \"A\"\n",
       " \"G\""
      ]
     },
     "execution_count": 29,
     "metadata": {},
     "output_type": "execute_result"
    }
   ],
   "source": [
    "alleles(vs[3])"
   ]
  },
  {
   "cell_type": "markdown",
   "metadata": {},
   "source": [
    "For biallelic nonphased genotype data, `minor_allele_dosage!(b, v)` can be computed. "
   ]
  },
  {
   "cell_type": "code",
   "execution_count": 30,
   "metadata": {},
   "outputs": [
    {
     "data": {
      "text/plain": [
       "500-element Array{Float64,1}:\n",
       " NaN\n",
       "   0.06274509803921569\n",
       "   0.08235294117647059\n",
       "   0.9803921568627451\n",
       "   0.09019607843137255\n",
       "   0.1411764705882353\n",
       "   1.0745098039215686\n",
       "   0.054901960784313725\n",
       "   0.10980392156862745\n",
       "   0.12156862745098039\n",
       "   0.1411764705882353\n",
       "   0.21568627450980393\n",
       "   0.08235294117647059\n",
       "   ⋮\n",
       "   0.09411764705882353\n",
       "   0.10196078431372549\n",
       "   0.027450980392156862\n",
       "   0.9647058823529412\n",
       "   0.0\n",
       "   1.011764705882353\n",
       "   0.043137254901960784\n",
       "   0.06274509803921569\n",
       "   1.0431372549019609\n",
       "   0.058823529411764705\n",
       "   1.8941176470588235\n",
       "   0.9921568627450981"
      ]
     },
     "execution_count": 30,
     "metadata": {},
     "output_type": "execute_result"
    }
   ],
   "source": [
    "minor_allele_dosage!(b, variants[1])"
   ]
  },
  {
   "cell_type": "code",
   "execution_count": 31,
   "metadata": {},
   "outputs": [
    {
     "data": {
      "text/plain": [
       "0x00"
      ]
     },
     "execution_count": 31,
     "metadata": {},
     "output_type": "execute_result"
    }
   ],
   "source": [
    "phased(variants[1])"
   ]
  },
  {
   "cell_type": "code",
   "execution_count": 32,
   "metadata": {},
   "outputs": [
    {
     "data": {
      "text/plain": [
       "2"
      ]
     },
     "execution_count": 32,
     "metadata": {},
     "output_type": "execute_result"
    }
   ],
   "source": [
    "n_alleles(variants[1])"
   ]
  },
  {
   "cell_type": "code",
   "execution_count": 33,
   "metadata": {},
   "outputs": [
    {
     "data": {
      "text/plain": [
       "\"A\""
      ]
     },
     "execution_count": 33,
     "metadata": {},
     "output_type": "execute_result"
    }
   ],
   "source": [
    "minor_allele(variants[1])"
   ]
  },
  {
   "cell_type": "code",
   "execution_count": 34,
   "metadata": {},
   "outputs": [
    {
     "data": {
      "text/plain": [
       "\"G\""
      ]
     },
     "execution_count": 34,
     "metadata": {},
     "output_type": "execute_result"
    }
   ],
   "source": [
    "major_allele(variants[1])"
   ]
  },
  {
   "cell_type": "markdown",
   "metadata": {},
   "source": [
    "`minor_allele_dosage!()` supports a keyword argument `mean_impute`, which imputes missing value with the mean of the non-missing values."
   ]
  },
  {
   "cell_type": "code",
   "execution_count": 35,
   "metadata": {},
   "outputs": [
    {
     "data": {
      "text/plain": [
       "500-element Array{Float64,1}:\n",
       " 0.3958112303037447\n",
       " 0.06274509803921569\n",
       " 0.08235294117647059\n",
       " 0.9803921568627451\n",
       " 0.09019607843137255\n",
       " 0.1411764705882353\n",
       " 1.0745098039215686\n",
       " 0.054901960784313725\n",
       " 0.10980392156862745\n",
       " 0.12156862745098039\n",
       " 0.1411764705882353\n",
       " 0.21568627450980393\n",
       " 0.08235294117647059\n",
       " ⋮\n",
       " 0.09411764705882353\n",
       " 0.10196078431372549\n",
       " 0.027450980392156862\n",
       " 0.9647058823529412\n",
       " 0.0\n",
       " 1.011764705882353\n",
       " 0.043137254901960784\n",
       " 0.06274509803921569\n",
       " 1.0431372549019609\n",
       " 0.058823529411764705\n",
       " 1.8941176470588235\n",
       " 0.9921568627450981"
      ]
     },
     "execution_count": 35,
     "metadata": {},
     "output_type": "execute_result"
    }
   ],
   "source": [
    "minor_allele_dosage!(b, variants[1]; T=Float64, mean_impute=true)"
   ]
  },
  {
   "cell_type": "code",
   "execution_count": 36,
   "metadata": {},
   "outputs": [
    {
     "data": {
      "text/plain": [
       "Bgen(IOStream(<file /home/kose/.julia/dev/BGEN/src/../data/example.8bits.bgen>), 0x000000000001f6ea, BGEN.Header(0x0000178c, 0x00000014, 0x000000c7, 0x000001f4, 0x01, 0x02, true), [\"sample_001\", \"sample_002\", \"sample_003\", \"sample_004\", \"sample_005\", \"sample_006\", \"sample_007\", \"sample_008\", \"sample_009\", \"sample_010\"  …  \"sample_491\", \"sample_492\", \"sample_493\", \"sample_494\", \"sample_495\", \"sample_496\", \"sample_497\", \"sample_498\", \"sample_499\", \"sample_500\"], Index(\"/home/kose/.julia/dev/BGEN/src/../data/example.8bits.bgen.bgi\", SQLite.DB(\"/home/kose/.julia/dev/BGEN/src/../data/example.8bits.bgen.bgi\"), UInt32[], String[], String[], UInt32[]))"
      ]
     },
     "execution_count": 36,
     "metadata": {},
     "output_type": "execute_result"
    }
   ],
   "source": [
    "b = Bgen(BGEN.datadir(\"example.8bits.bgen\"); \n",
    "    sample_path=BGEN.datadir(\"example.sample\"), \n",
    "    idx_path=BGEN.datadir(\"example.8bits.bgen.bgi\"))"
   ]
  },
  {
   "cell_type": "code",
   "execution_count": 37,
   "metadata": {},
   "outputs": [
    {
     "name": "stdout",
     "output_type": "stream",
     "text": [
      "1 RSID_101\n",
      "2 RSID_2\n",
      "3 RSID_102\n",
      "4 RSID_3\n",
      "5 RSID_103\n",
      "6 RSID_4\n",
      "7 RSID_104\n",
      "8 RSID_5\n",
      "9 RSID_105\n",
      "10 RSID_6\n",
      "11 RSID_106\n",
      "12 RSID_7\n",
      "13 RSID_107\n",
      "14 RSID_8\n",
      "15 RSID_108\n",
      "16 RSID_9\n",
      "17 RSID_109\n",
      "18 RSID_10\n",
      "19 RSID_100\n",
      "20 RSID_110\n",
      "21 RSID_11\n",
      "22 RSID_111\n",
      "23 RSID_12\n",
      "24 RSID_112\n",
      "25 RSID_13\n",
      "26 RSID_113\n",
      "27 RSID_14\n",
      "28 RSID_114\n",
      "29 RSID_15\n",
      "30 RSID_115\n",
      "31 RSID_16\n",
      "32 RSID_116\n",
      "33 RSID_17\n",
      "34 RSID_117\n",
      "35 RSID_18\n",
      "36 RSID_118\n",
      "37 RSID_19\n",
      "38 RSID_119\n",
      "39 RSID_20\n",
      "40 RSID_120\n",
      "41 RSID_21\n",
      "42 RSID_121\n",
      "43 RSID_22\n",
      "44 RSID_122\n",
      "45 RSID_23\n",
      "46 RSID_123\n",
      "47 RSID_24\n",
      "48 RSID_124\n",
      "49 RSID_25\n",
      "50 RSID_125\n",
      "51 RSID_26\n",
      "52 RSID_126\n",
      "53 RSID_27\n",
      "54 RSID_127\n",
      "55 RSID_28\n",
      "56 RSID_128\n",
      "57 RSID_29\n",
      "58 RSID_129\n",
      "59 RSID_30\n",
      "60 RSID_130\n",
      "61 RSID_31\n",
      "62 RSID_131\n",
      "63 RSID_32\n",
      "64 RSID_132\n",
      "65 RSID_33\n",
      "66 RSID_133\n",
      "67 RSID_34\n",
      "68 RSID_134\n",
      "69 RSID_35\n",
      "70 RSID_135\n",
      "71 RSID_36\n",
      "72 RSID_136\n",
      "73 RSID_37\n",
      "74 RSID_137\n",
      "75 RSID_38\n",
      "76 RSID_138\n",
      "77 RSID_39\n",
      "78 RSID_139\n",
      "79 RSID_40\n",
      "80 RSID_140\n",
      "81 RSID_41\n",
      "82 RSID_141\n",
      "83 RSID_42\n",
      "84 RSID_142\n",
      "85 RSID_43\n",
      "86 RSID_143\n",
      "87 RSID_44\n",
      "88 RSID_144\n",
      "89 RSID_45\n",
      "90 RSID_145\n",
      "91 RSID_46\n",
      "92 RSID_146\n",
      "93 RSID_47\n",
      "94 RSID_147\n",
      "95 RSID_48\n",
      "96 RSID_148\n",
      "97 RSID_49\n",
      "98 RSID_149\n",
      "99 RSID_50\n",
      "100 RSID_150\n",
      "101 RSID_51\n",
      "102 RSID_151\n",
      "103 RSID_52\n",
      "104 RSID_152\n",
      "105 RSID_53\n",
      "106 RSID_153\n",
      "107 RSID_54\n",
      "108 RSID_154\n",
      "109 RSID_55\n",
      "110 RSID_155\n",
      "111 RSID_56\n",
      "112 RSID_156\n",
      "113 RSID_57\n",
      "114 RSID_157\n",
      "115 RSID_58\n",
      "116 RSID_158\n",
      "117 RSID_59\n",
      "118 RSID_159\n",
      "119 RSID_60\n",
      "120 RSID_160\n",
      "121 RSID_61\n",
      "122 RSID_161\n",
      "123 RSID_62\n",
      "124 RSID_162\n",
      "125 RSID_63\n",
      "126 RSID_163\n",
      "127 RSID_64\n",
      "128 RSID_164\n",
      "129 RSID_65\n",
      "130 RSID_165\n",
      "131 RSID_66\n",
      "132 RSID_166\n",
      "133 RSID_67\n",
      "134 RSID_167\n",
      "135 RSID_68\n",
      "136 RSID_168\n",
      "137 RSID_69\n",
      "138 RSID_169\n",
      "139 RSID_70\n",
      "140 RSID_170\n",
      "141 RSID_71\n",
      "142 RSID_171\n",
      "143 RSID_72\n",
      "144 RSID_172\n",
      "145 RSID_73\n",
      "146 RSID_173\n",
      "147 RSID_74\n",
      "148 RSID_174\n",
      "149 RSID_75\n",
      "150 RSID_175\n",
      "151 RSID_76\n",
      "152 RSID_176\n",
      "153 RSID_77\n",
      "154 RSID_177\n",
      "155 RSID_78\n",
      "156 RSID_178\n",
      "157 RSID_79\n",
      "158 RSID_179\n",
      "159 RSID_80\n",
      "160 RSID_180\n",
      "161 RSID_81\n",
      "162 RSID_181\n",
      "163 RSID_82\n",
      "164 RSID_182\n",
      "165 RSID_83\n",
      "166 RSID_183\n",
      "167 RSID_84\n",
      "168 RSID_184\n",
      "169 RSID_85\n",
      "170 RSID_185\n",
      "171 RSID_86\n",
      "172 RSID_186\n",
      "173 RSID_87\n",
      "174 RSID_187\n",
      "175 RSID_88\n",
      "176 RSID_188\n",
      "177 RSID_89\n",
      "178 RSID_189\n",
      "179 RSID_90\n",
      "180 RSID_190\n",
      "181 RSID_91\n",
      "182 RSID_191\n",
      "183 RSID_92\n",
      "184 RSID_192\n",
      "185 RSID_93\n",
      "186 RSID_193\n",
      "187 RSID_94\n",
      "188 RSID_194\n",
      "189 RSID_95\n",
      "190 RSID_195\n",
      "191 RSID_96\n",
      "192 RSID_196\n",
      "193 RSID_97\n",
      "194 RSID_197\n",
      "195 RSID_98\n",
      "196 RSID_198\n",
      "197 RSID_99\n",
      "198 RSID_199\n",
      "199 RSID_200\n"
     ]
    }
   ],
   "source": [
    "for (i, v) in enumerate(iterator(b))\n",
    "    println(\"$i $(v.rsid)\")\n",
    "end\n",
    "    "
   ]
  },
  {
   "cell_type": "code",
   "execution_count": 38,
   "metadata": {},
   "outputs": [
    {
     "data": {
      "text/plain": [
       "500-element BitArray{1}:\n",
       " 0\n",
       " 0\n",
       " 0\n",
       " 0\n",
       " 0\n",
       " 0\n",
       " 0\n",
       " 0\n",
       " 0\n",
       " 0\n",
       " 0\n",
       " 0\n",
       " 0\n",
       " ⋮\n",
       " 0\n",
       " 0\n",
       " 0\n",
       " 0\n",
       " 0\n",
       " 0\n",
       " 0\n",
       " 0\n",
       " 0\n",
       " 0\n",
       " 0\n",
       " 0"
      ]
     },
     "execution_count": 38,
     "metadata": {},
     "output_type": "execute_result"
    }
   ],
   "source": [
    "bv = BitVector(undef, 500)"
   ]
  },
  {
   "cell_type": "code",
   "execution_count": 39,
   "metadata": {},
   "outputs": [
    {
     "name": "stdout",
     "output_type": "stream",
     "text": [
      "1 RSID_101\n",
      "2 RSID_2\n",
      "3 RSID_102\n",
      "4 RSID_3\n",
      "5 RSID_103\n",
      "6 RSID_4\n",
      "7 RSID_104\n",
      "8 RSID_5\n",
      "9 RSID_105\n",
      "10 RSID_6\n",
      "11 RSID_106\n",
      "12 RSID_7\n",
      "13 RSID_107\n",
      "14 RSID_8\n",
      "15 RSID_108\n",
      "16 RSID_9\n",
      "17 RSID_109\n",
      "18 RSID_10\n",
      "19 RSID_100\n",
      "20 RSID_110\n",
      "21 RSID_11\n",
      "22 RSID_111\n",
      "23 RSID_12\n",
      "24 RSID_112\n",
      "25 RSID_13\n",
      "26 RSID_113\n",
      "27 RSID_14\n",
      "28 RSID_114\n",
      "29 RSID_15\n",
      "30 RSID_115\n",
      "31 RSID_16\n",
      "32 RSID_116\n",
      "33 RSID_17\n",
      "34 RSID_117\n",
      "35 RSID_18\n",
      "36 RSID_118\n",
      "37 RSID_19\n",
      "38 RSID_119\n",
      "39 RSID_20\n",
      "40 RSID_120\n",
      "41 RSID_21\n",
      "42 RSID_121\n",
      "43 RSID_22\n",
      "44 RSID_122\n",
      "45 RSID_23\n",
      "46 RSID_123\n",
      "47 RSID_24\n",
      "48 RSID_124\n",
      "49 RSID_25\n",
      "50 RSID_125\n",
      "51 RSID_26\n",
      "52 RSID_126\n",
      "53 RSID_27\n",
      "54 RSID_127\n",
      "55 RSID_28\n",
      "56 RSID_128\n",
      "57 RSID_29\n",
      "58 RSID_129\n",
      "59 RSID_30\n",
      "60 RSID_130\n",
      "61 RSID_31\n",
      "62 RSID_131\n",
      "63 RSID_32\n",
      "64 RSID_132\n",
      "65 RSID_33\n",
      "66 RSID_133\n",
      "67 RSID_34\n",
      "68 RSID_134\n",
      "69 RSID_35\n",
      "70 RSID_135\n",
      "71 RSID_36\n",
      "72 RSID_136\n",
      "73 RSID_37\n",
      "74 RSID_137\n",
      "75 RSID_38\n",
      "76 RSID_138\n",
      "77 RSID_39\n",
      "78 RSID_139\n",
      "79 RSID_40\n",
      "80 RSID_140\n",
      "81 RSID_41\n",
      "82 RSID_141\n",
      "83 RSID_42\n",
      "84 RSID_142\n",
      "85 RSID_43\n",
      "86 RSID_143\n",
      "87 RSID_44\n",
      "88 RSID_144\n",
      "89 RSID_45\n",
      "90 RSID_145\n",
      "91 RSID_46\n",
      "92 RSID_146\n",
      "93 RSID_47\n",
      "94 RSID_147\n",
      "95 RSID_48\n",
      "96 RSID_148\n",
      "97 RSID_49\n",
      "98 RSID_149\n",
      "99 RSID_50\n",
      "100 RSID_150\n",
      "101 RSID_51\n",
      "102 RSID_151\n",
      "103 RSID_52\n",
      "104 RSID_152\n",
      "105 RSID_53\n",
      "106 RSID_153\n",
      "107 RSID_54\n",
      "108 RSID_154\n",
      "109 RSID_55\n",
      "110 RSID_155\n",
      "111 RSID_56\n",
      "112 RSID_156\n",
      "113 RSID_57\n",
      "114 RSID_157\n",
      "115 RSID_58\n",
      "116 RSID_158\n",
      "117 RSID_59\n",
      "118 RSID_159\n",
      "119 RSID_60\n",
      "120 RSID_160\n",
      "121 RSID_61\n",
      "122 RSID_161\n",
      "123 RSID_62\n",
      "124 RSID_162\n",
      "125 RSID_63\n",
      "126 RSID_163\n",
      "127 RSID_64\n",
      "128 RSID_164\n",
      "129 RSID_65\n",
      "130 RSID_165\n",
      "131 RSID_66\n",
      "132 RSID_166\n",
      "133 RSID_67\n",
      "134 RSID_167\n",
      "135 RSID_68\n",
      "136 RSID_168\n",
      "137 RSID_69\n",
      "138 RSID_169\n",
      "139 RSID_70\n",
      "140 RSID_170\n",
      "141 RSID_71\n",
      "142 RSID_171\n",
      "143 RSID_72\n",
      "144 RSID_172\n",
      "145 RSID_73\n",
      "146 RSID_173\n",
      "147 RSID_74\n",
      "148 RSID_174\n",
      "149 RSID_75\n",
      "150 RSID_175\n",
      "151 RSID_76\n",
      "152 RSID_176\n",
      "153 RSID_77\n",
      "154 RSID_177\n",
      "155 RSID_78\n",
      "156 RSID_178\n",
      "157 RSID_79\n",
      "158 RSID_179\n",
      "159 RSID_80\n",
      "160 RSID_180\n",
      "161 RSID_81\n",
      "162 RSID_181\n",
      "163 RSID_82\n",
      "164 RSID_182\n",
      "165 RSID_83\n",
      "166 RSID_183\n",
      "167 RSID_84\n",
      "168 RSID_184\n",
      "169 RSID_85\n",
      "170 RSID_185\n",
      "171 RSID_86\n",
      "172 RSID_186\n",
      "173 RSID_87\n",
      "174 RSID_187\n",
      "175 RSID_88\n",
      "176 RSID_188\n",
      "177 RSID_89\n",
      "178 RSID_189\n",
      "179 RSID_90\n",
      "180 RSID_190\n",
      "181 RSID_91\n",
      "182 RSID_191\n",
      "183 RSID_92\n",
      "184 RSID_192\n",
      "185 RSID_93\n",
      "186 RSID_193\n",
      "187 RSID_94\n",
      "188 RSID_194\n",
      "189 RSID_95\n",
      "190 RSID_195\n",
      "191 RSID_96\n",
      "192 RSID_196\n",
      "193 RSID_97\n",
      "194 RSID_197\n",
      "195 RSID_98\n",
      "196 RSID_198\n",
      "197 RSID_99\n",
      "198 RSID_199\n",
      "199 RSID_200\n"
     ]
    }
   ],
   "source": [
    "for (i, v) in zip(eachindex(bv), iterator(b))\n",
    "    println(\"$i $(v.rsid)\")\n",
    "end"
   ]
  }
 ],
 "metadata": {
  "celltoolbar": "Slideshow",
  "kernelspec": {
   "display_name": "Julia 1.5.2",
   "language": "julia",
   "name": "julia-1.5"
  },
  "language_info": {
   "file_extension": ".jl",
   "mimetype": "application/julia",
   "name": "julia",
   "version": "1.5.2"
  }
 },
 "nbformat": 4,
 "nbformat_minor": 4
}
