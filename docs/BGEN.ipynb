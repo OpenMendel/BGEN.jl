{
 "cells": [
  {
   "cell_type": "markdown",
   "metadata": {
    "slideshow": {
     "slide_type": "slide"
    }
   },
   "source": [
    "# BGEN.jl\n",
    "\n",
    "Routines for reading compressed storage of genotyped or imputed markers"
   ]
  },
  {
   "cell_type": "markdown",
   "metadata": {
    "slideshow": {
     "slide_type": "slide"
    }
   },
   "source": [
    "## The BGEN Format\n",
    "\n",
    "[*Genome-wide association studies (GWAS)*](https://en.wikipedia.org/wiki/Genome-wide_association_study) data with imputed markers are often saved in the [**BGEN format**](https://www.well.ox.ac.uk/~gav/bgen_format/) or `.bgen` file.\n",
    "\n",
    "Used in:\n",
    "\n",
    "* Wellcome Trust Case-Control Consortium 2\n",
    "* the MalariaGEN project\n",
    "* the ALSPAC study\n",
    "* [__UK Biobank__](https://enkre.net/cgi-bin/code/bgen/wiki/?name=BGEN+in+the+UK+Biobank): for genome-wide imputed genotypes and phased haplotypes\n",
    "\n"
   ]
  },
  {
   "cell_type": "markdown",
   "metadata": {
    "slideshow": {
     "slide_type": "slide"
    }
   },
   "source": [
    "### Features\n",
    "\n",
    "* Can store both hard-calls and imputed data\n",
    "* Can store both phased haplotypes and phased genotypes\n",
    "* Efficient variable-precision bit reapresntations\n",
    "* Per-variant compression $\\rightarrow$ easy to index \n",
    "    * Supported compression method: [zlib](http://www.zlib.net/) and [Zstandard](https://facebook.github.io/zstd/). \n",
    "    * Index files are often provided as `.bgen.bgi` files, which are plain [SQLite3](http://www.sqlite.org) databases."
   ]
  },
  {
   "cell_type": "markdown",
   "metadata": {
    "slideshow": {
     "slide_type": "fragment"
    }
   },
   "source": [
    "Time to list variant identifying information (genomic location, ID and alleles): 18,496 samples, 121,668 SNPs\n",
    "(image source: https://www.well.ox.ac.uk/~gav/bgen_format/images/bgen_comparison.png)\n",
    "![](https://www.well.ox.ac.uk/~gav/bgen_format/images/bgen_comparison.png)\n",
    "\n",
    "_Plink 1 format (`.bed`/`.bim`/`.fam`) has the list of variants as a separate file (`.bim`), effectively zero time._"
   ]
  },
  {
   "cell_type": "markdown",
   "metadata": {
    "slideshow": {
     "slide_type": "slide"
    }
   },
   "source": [
    "### Structure\n",
    "\n",
    "A header block followed by a series of [variant data block - (compressed) genotype data block] pairs.\n",
    "* Header block \n",
    "    * number of variants and samples\n",
    "    * compression method (none, zlib or zstandard)\n",
    "    * version of layout \n",
    "        * Only \"layout 2\" is discussed below. \"Layout 1\" is also supported.\n",
    "    * sample identifiers (optional)\n"
   ]
  },
  {
   "cell_type": "markdown",
   "metadata": {
    "slideshow": {
     "slide_type": "slide"
    }
   },
   "source": [
    "* Variant data block\n",
    "    * variant id\n",
    "    * genomic position (chromosome, bp coordinate)\n",
    "    * list of alleles\n",
    "* Genotype data block (often compressed)\n",
    "    * ploidy of each sample (may vary sample-by-sample)\n",
    "    * if the genotype data are phased\n",
    "    * precision ($B$, number of bits to represent probabilities)\n",
    "    * probabilitiy data (e.g. an unsigned $B$-bit integer $x$ represents the probability of ($\\frac{x}{2^{B}-1}$)\n",
    "\n",
    "_`BGEN.jl` provides tools for iterating over the variants and parsing genotype data efficiently. It has been optimized for UK Biobank's zlib-compressed, 8-bit byte-aligned, all-diploid, all-biallelic datafiles._"
   ]
  },
  {
   "cell_type": "markdown",
   "metadata": {
    "slideshow": {
     "slide_type": "-"
    }
   },
   "source": [
    "## Installation\n",
    "\n",
    "This package requires Julia v1.0 or later, which can be obtained from\n",
    "https://julialang.org/downloads/ or by building Julia from the sources in the\n",
    "https://github.com/JuliaLang/julia repository.\n",
    "\n",
    "The package can be installed by running the following code:\n",
    "```julia\n",
    "using Pkg\n",
    "pkg\"add BGEN\"\n",
    "```\n",
    "\n",
    "In order to run the examples below, the `Glob` package is also needed. \n",
    "```julia\n",
    "pkg\"add Glob\"\n",
    "```"
   ]
  },
  {
   "cell_type": "code",
   "execution_count": 1,
   "metadata": {
    "slideshow": {
     "slide_type": "-"
    }
   },
   "outputs": [
    {
     "name": "stdout",
     "output_type": "stream",
     "text": [
      "Julia Version 1.7.1\n",
      "Commit ac5cc99908 (2021-12-22 19:35 UTC)\n",
      "Platform Info:\n",
      "  OS: macOS (x86_64-apple-darwin19.5.0)\n",
      "  CPU: Intel(R) Core(TM) i7-7820HQ CPU @ 2.90GHz\n",
      "  WORD_SIZE: 64\n",
      "  LIBM: libopenlibm\n",
      "  LLVM: libLLVM-12.0.1 (ORCJIT, skylake)\n"
     ]
    }
   ],
   "source": [
    "versioninfo()"
   ]
  },
  {
   "cell_type": "code",
   "execution_count": 2,
   "metadata": {},
   "outputs": [],
   "source": [
    "using BGEN, Glob"
   ]
  },
  {
   "cell_type": "markdown",
   "metadata": {},
   "source": [
    "## Example Data"
   ]
  },
  {
   "cell_type": "markdown",
   "metadata": {},
   "source": [
    "The example datafiles are stored in `/data` directory of this repository. It can be accessed through the function `BGEN.datadir()`. These files come from [the reference implementation](https://enkre.net/cgi-bin/code/bgen/dir?ci=trunk) for the BGEN format."
   ]
  },
  {
   "cell_type": "code",
   "execution_count": 3,
   "metadata": {},
   "outputs": [
    {
     "data": {
      "text/plain": [
       "79-element Vector{String}:\n",
       " \"/Users/kose/.julia/dev/BGEN/src/../data/LICENSE.md\"\n",
       " \"/Users/kose/.julia/dev/BGEN/src/../data/complex.10bits.bgen\"\n",
       " \"/Users/kose/.julia/dev/BGEN/src/../data/complex.11bits.bgen\"\n",
       " \"/Users/kose/.julia/dev/BGEN/src/../data/complex.12bits.bgen\"\n",
       " \"/Users/kose/.julia/dev/BGEN/src/../data/complex.13bits.bgen\"\n",
       " \"/Users/kose/.julia/dev/BGEN/src/../data/complex.14bits.bgen\"\n",
       " \"/Users/kose/.julia/dev/BGEN/src/../data/complex.15bits.bgen\"\n",
       " \"/Users/kose/.julia/dev/BGEN/src/../data/complex.16bits.bgen\"\n",
       " \"/Users/kose/.julia/dev/BGEN/src/../data/complex.17bits.bgen\"\n",
       " \"/Users/kose/.julia/dev/BGEN/src/../data/complex.18bits.bgen\"\n",
       " \"/Users/kose/.julia/dev/BGEN/src/../data/complex.19bits.bgen\"\n",
       " \"/Users/kose/.julia/dev/BGEN/src/../data/complex.1bits.bgen\"\n",
       " \"/Users/kose/.julia/dev/BGEN/src/../data/complex.20bits.bgen\"\n",
       " ⋮\n",
       " \"/Users/kose/.julia/dev/BGEN/src/../data/example.6bits.bgen\"\n",
       " \"/Users/kose/.julia/dev/BGEN/src/../data/example.7bits.bgen\"\n",
       " \"/Users/kose/.julia/dev/BGEN/src/../data/example.8bits.bgen\"\n",
       " \"/Users/kose/.julia/dev/BGEN/src/../data/example.8bits.bgen.bgi\"\n",
       " \"/Users/kose/.julia/dev/BGEN/src/../data/example.9bits.bgen\"\n",
       " \"/Users/kose/.julia/dev/BGEN/src/../data/example.gen\"\n",
       " \"/Users/kose/.julia/dev/BGEN/src/../data/example.sample\"\n",
       " \"/Users/kose/.julia/dev/BGEN/src/../data/example.v11.bgen\"\n",
       " \"/Users/kose/.julia/dev/BGEN/src/../data/examples.16bits.bgen\"\n",
       " \"/Users/kose/.julia/dev/BGEN/src/../data/haplotypes.bgen\"\n",
       " \"/Users/kose/.julia/dev/BGEN/src/../data/haplotypes.bgen.bgi\"\n",
       " \"/Users/kose/.julia/dev/BGEN/src/../data/haplotypes.haps\""
      ]
     },
     "execution_count": 3,
     "metadata": {},
     "output_type": "execute_result"
    }
   ],
   "source": [
    "Glob.glob(\"*\", BGEN.datadir())"
   ]
  },
  {
   "cell_type": "markdown",
   "metadata": {},
   "source": [
    "There are three different datasets with different format versions, compressions, or number of bits to represent probability values. \n",
    "\n",
    "- `example.*.bgen`: imputed genotypes. \n",
    "- `haplotypes.bgen`: phased haplotypes. \n",
    "- `complex.*.bgen`: includes imputed genotypes and phased haplotypes, and multiallelic genotypes.\n",
    "\n",
    "Some of the `.bgen` files are indexed with `.bgen.bgi` files:"
   ]
  },
  {
   "cell_type": "code",
   "execution_count": 4,
   "metadata": {},
   "outputs": [
    {
     "data": {
      "text/plain": [
       "4-element Vector{String}:\n",
       " \"/Users/kose/.julia/dev/BGEN/src/../data/complex.bgen.bgi\"\n",
       " \"/Users/kose/.julia/dev/BGEN/src/../data/example.16bits.bgen.bgi\"\n",
       " \"/Users/kose/.julia/dev/BGEN/src/../data/example.8bits.bgen.bgi\"\n",
       " \"/Users/kose/.julia/dev/BGEN/src/../data/haplotypes.bgen.bgi\""
      ]
     },
     "execution_count": 4,
     "metadata": {},
     "output_type": "execute_result"
    }
   ],
   "source": [
    "Glob.glob(\"*.bgen.bgi\", BGEN.datadir())"
   ]
  },
  {
   "cell_type": "markdown",
   "metadata": {},
   "source": [
    "Sample identifiers may be either contained in the `.bgen` file, or is listed in an external `.sample` file."
   ]
  },
  {
   "cell_type": "code",
   "execution_count": 5,
   "metadata": {},
   "outputs": [
    {
     "data": {
      "text/plain": [
       "2-element Vector{String}:\n",
       " \"/Users/kose/.julia/dev/BGEN/src/../data/complex.sample\"\n",
       " \"/Users/kose/.julia/dev/BGEN/src/../data/example.sample\""
      ]
     },
     "execution_count": 5,
     "metadata": {},
     "output_type": "execute_result"
    }
   ],
   "source": [
    "Glob.glob(\"*.sample\", BGEN.datadir())"
   ]
  },
  {
   "cell_type": "markdown",
   "metadata": {},
   "source": [
    "## Type `Bgen`\n",
    "The type `Bgen` is the fundamental type for `.bgen`-formatted files. It can be created using the following line."
   ]
  },
  {
   "cell_type": "code",
   "execution_count": 6,
   "metadata": {},
   "outputs": [
    {
     "data": {
      "text/plain": [
       "Bgen(IOStream(<file /Users/kose/.julia/dev/BGEN/src/../data/example.8bits.bgen>), 0x000000000001f6ea, BGEN.Header(0x0000178c, 0x00000014, 0x000000c7, 0x000001f4, 0x01, 0x02, true), [\"sample_001\", \"sample_002\", \"sample_003\", \"sample_004\", \"sample_005\", \"sample_006\", \"sample_007\", \"sample_008\", \"sample_009\", \"sample_010\"  …  \"sample_491\", \"sample_492\", \"sample_493\", \"sample_494\", \"sample_495\", \"sample_496\", \"sample_497\", \"sample_498\", \"sample_499\", \"sample_500\"], Index(\"/Users/kose/.julia/dev/BGEN/src/../data/example.8bits.bgen.bgi\", SQLite.DB(\"/Users/kose/.julia/dev/BGEN/src/../data/example.8bits.bgen.bgi\"), UInt64[], String[], String[], UInt32[]))"
      ]
     },
     "execution_count": 6,
     "metadata": {},
     "output_type": "execute_result"
    }
   ],
   "source": [
    "b = Bgen(BGEN.datadir(\"example.8bits.bgen\"); \n",
    "    sample_path=BGEN.datadir(\"example.sample\"), \n",
    "    idx_path=BGEN.datadir(\"example.8bits.bgen.bgi\"))"
   ]
  },
  {
   "cell_type": "markdown",
   "metadata": {},
   "source": [
    "The first argument is the path to the `.bgen` file. The optional keyword argument `sample_path` defines the location of  the `.sample` file. The second optional keyword argument `idx_path` determines the location of `.bgen.bgi` file. "
   ]
  },
  {
   "cell_type": "markdown",
   "metadata": {},
   "source": [
    "When a `Bgen` object is created, information in the header is parsed, and the index files are loaded if provided. You may retrieve basic information as follows. Variants are not yet parsed, and will be discussed later. \n",
    "\n",
    "- `io(b::Bgen)`: IOStream for the bgen file. You may also close this stream using `close(b::Bgen)`.\n",
    "- `fsize(b::Bgen)`: the size of the bgen file.\n",
    "- `samples(b::Bgen)`: the list of sample names. \n",
    "- `n_samples(b::Bgen)`: number of samples in the file.\n",
    "- `n_variants(b::Bgen)`: number of variants\n",
    "- `compression(b::Bgen)`: the method each genotype block is compressed. It is either \"None\", \"Zlib\", or \"Zstd\".  "
   ]
  },
  {
   "cell_type": "code",
   "execution_count": 7,
   "metadata": {},
   "outputs": [
    {
     "data": {
      "text/plain": [
       "IOStream(<file /Users/kose/.julia/dev/BGEN/src/../data/example.8bits.bgen>)"
      ]
     },
     "execution_count": 7,
     "metadata": {},
     "output_type": "execute_result"
    }
   ],
   "source": [
    "io(b)"
   ]
  },
  {
   "cell_type": "code",
   "execution_count": 8,
   "metadata": {},
   "outputs": [
    {
     "data": {
      "text/plain": [
       "128746"
      ]
     },
     "execution_count": 8,
     "metadata": {},
     "output_type": "execute_result"
    }
   ],
   "source": [
    "fsize(b)"
   ]
  },
  {
   "cell_type": "code",
   "execution_count": 9,
   "metadata": {},
   "outputs": [
    {
     "data": {
      "text/plain": [
       "500-element Vector{String}:\n",
       " \"sample_001\"\n",
       " \"sample_002\"\n",
       " \"sample_003\"\n",
       " \"sample_004\"\n",
       " \"sample_005\"\n",
       " \"sample_006\"\n",
       " \"sample_007\"\n",
       " \"sample_008\"\n",
       " \"sample_009\"\n",
       " \"sample_010\"\n",
       " \"sample_011\"\n",
       " \"sample_012\"\n",
       " \"sample_013\"\n",
       " ⋮\n",
       " \"sample_489\"\n",
       " \"sample_490\"\n",
       " \"sample_491\"\n",
       " \"sample_492\"\n",
       " \"sample_493\"\n",
       " \"sample_494\"\n",
       " \"sample_495\"\n",
       " \"sample_496\"\n",
       " \"sample_497\"\n",
       " \"sample_498\"\n",
       " \"sample_499\"\n",
       " \"sample_500\""
      ]
     },
     "execution_count": 9,
     "metadata": {},
     "output_type": "execute_result"
    }
   ],
   "source": [
    "samples(b)"
   ]
  },
  {
   "cell_type": "code",
   "execution_count": 10,
   "metadata": {},
   "outputs": [
    {
     "data": {
      "text/plain": [
       "500"
      ]
     },
     "execution_count": 10,
     "metadata": {},
     "output_type": "execute_result"
    }
   ],
   "source": [
    "n_samples(b)"
   ]
  },
  {
   "cell_type": "code",
   "execution_count": 11,
   "metadata": {},
   "outputs": [
    {
     "data": {
      "text/plain": [
       "199"
      ]
     },
     "execution_count": 11,
     "metadata": {},
     "output_type": "execute_result"
    }
   ],
   "source": [
    "n_variants(b)"
   ]
  },
  {
   "cell_type": "code",
   "execution_count": 12,
   "metadata": {},
   "outputs": [
    {
     "data": {
      "text/plain": [
       "\"Zlib\""
      ]
     },
     "execution_count": 12,
     "metadata": {},
     "output_type": "execute_result"
    }
   ],
   "source": [
    "compression(b)"
   ]
  },
  {
   "cell_type": "markdown",
   "metadata": {},
   "source": [
    "One may also access the list of RSIDs, chromosomes, and positions in chromosome of each variant stored using functions `rsids()`, `chroms()`, and `positions()`, respectively. "
   ]
  },
  {
   "cell_type": "code",
   "execution_count": 13,
   "metadata": {},
   "outputs": [
    {
     "data": {
      "text/plain": [
       "199-element Vector{String}:\n",
       " \"RSID_101\"\n",
       " \"RSID_2\"\n",
       " \"RSID_102\"\n",
       " \"RSID_3\"\n",
       " \"RSID_103\"\n",
       " \"RSID_4\"\n",
       " \"RSID_104\"\n",
       " \"RSID_5\"\n",
       " \"RSID_105\"\n",
       " \"RSID_6\"\n",
       " \"RSID_106\"\n",
       " \"RSID_7\"\n",
       " \"RSID_107\"\n",
       " ⋮\n",
       " \"RSID_194\"\n",
       " \"RSID_95\"\n",
       " \"RSID_195\"\n",
       " \"RSID_96\"\n",
       " \"RSID_196\"\n",
       " \"RSID_97\"\n",
       " \"RSID_197\"\n",
       " \"RSID_98\"\n",
       " \"RSID_198\"\n",
       " \"RSID_99\"\n",
       " \"RSID_199\"\n",
       " \"RSID_200\""
      ]
     },
     "execution_count": 13,
     "metadata": {},
     "output_type": "execute_result"
    }
   ],
   "source": [
    "rsids(b)"
   ]
  },
  {
   "cell_type": "code",
   "execution_count": 14,
   "metadata": {},
   "outputs": [
    {
     "data": {
      "text/plain": [
       "199-element Vector{String}:\n",
       " \"01\"\n",
       " \"01\"\n",
       " \"01\"\n",
       " \"01\"\n",
       " \"01\"\n",
       " \"01\"\n",
       " \"01\"\n",
       " \"01\"\n",
       " \"01\"\n",
       " \"01\"\n",
       " \"01\"\n",
       " \"01\"\n",
       " \"01\"\n",
       " ⋮\n",
       " \"01\"\n",
       " \"01\"\n",
       " \"01\"\n",
       " \"01\"\n",
       " \"01\"\n",
       " \"01\"\n",
       " \"01\"\n",
       " \"01\"\n",
       " \"01\"\n",
       " \"01\"\n",
       " \"01\"\n",
       " \"01\""
      ]
     },
     "execution_count": 14,
     "metadata": {},
     "output_type": "execute_result"
    }
   ],
   "source": [
    "chroms(b)"
   ]
  },
  {
   "cell_type": "code",
   "execution_count": 15,
   "metadata": {},
   "outputs": [
    {
     "data": {
      "text/plain": [
       "199-element Vector{Int64}:\n",
       "   1001\n",
       "   2000\n",
       "   2001\n",
       "   3000\n",
       "   3001\n",
       "   4000\n",
       "   4001\n",
       "   5000\n",
       "   5001\n",
       "   6000\n",
       "   6001\n",
       "   7000\n",
       "   7001\n",
       "      ⋮\n",
       "  94001\n",
       "  95000\n",
       "  95001\n",
       "  96000\n",
       "  96001\n",
       "  97000\n",
       "  97001\n",
       "  98000\n",
       "  98001\n",
       "  99000\n",
       "  99001\n",
       " 100001"
      ]
     },
     "execution_count": 15,
     "metadata": {},
     "output_type": "execute_result"
    }
   ],
   "source": [
    "positions(b)"
   ]
  },
  {
   "cell_type": "markdown",
   "metadata": {},
   "source": [
    "## `Variant` and `VariantIterator`"
   ]
  },
  {
   "cell_type": "markdown",
   "metadata": {},
   "source": [
    "As noted earlier, genotype information of each variant is compressed separately in `.bgen` files. The offsets (starting points in bgen file) of the genotypes may or may not be indexed by an external `.bgen.bgi` file. Thus, two ways to iterate over variants is provided through the function `iterator(b; offsets=nothing, from_bgen_start=false)`. \n",
    "- If `offsets` is provided, or `.bgen.bgi` is provided and \n",
    "`from_bgen_start` is `false`, it returns a `VariantIteratorFromOffsets`, iterating over the list of offsets.\n",
    "- Otherwise, it returns a `VariantIteratorFromStart`, iterating from the start of bgen file to the end of it sequentially. \n",
    "`VariantIteratorFromOffsets` and `VariantIteratorFromStart` are the subtypes of `VariantIterator`. "
   ]
  },
  {
   "cell_type": "markdown",
   "metadata": {},
   "source": [
    "Each element of `VariantIterator` is a `Variant`, containing the information of variants. We have following utility functions to access its information.\n",
    "- `n_samples(v::Variant)`\n",
    "- `varid(v::Variant)`\n",
    "- `rsid(v::Variant)`\n",
    "- `chrom(v::Variant)`\n",
    "- `pos(v::Variant)`\n",
    "- `n_alleles(v::Variant)`: number of alleles.\n",
    "- `alleles(v::Variant)`: list of alleles.\n",
    "\n",
    "Merely the basic information of a variant is parsed for creating a `Variant` object. Nothing is decompressed, and genotype probabilities are not yet parsed yet. Decompression happens lazily, and is delayed until when we try to compute genotype probabilites or minor allele dosages (to be discussed later)."
   ]
  },
  {
   "cell_type": "markdown",
   "metadata": {},
   "source": [
    "Since `.bgen.bgi` file is provided, the following order is based on the index file, sorted by genomic location."
   ]
  },
  {
   "cell_type": "code",
   "execution_count": 16,
   "metadata": {},
   "outputs": [
    {
     "name": "stdout",
     "output_type": "stream",
     "text": [
      "RSID_101\n",
      "RSID_2\n",
      "RSID_102\n",
      "RSID_3\n",
      "RSID_103\n",
      "RSID_4\n",
      "RSID_104\n",
      "RSID_5\n",
      "RSID_105\n",
      "RSID_6\n",
      "RSID_106\n",
      "RSID_7\n",
      "RSID_107\n",
      "RSID_8\n",
      "RSID_108\n",
      "RSID_9\n",
      "RSID_109\n",
      "RSID_10\n",
      "RSID_100\n",
      "RSID_110\n",
      "RSID_11\n",
      "RSID_111\n",
      "RSID_12\n",
      "RSID_112\n",
      "RSID_13\n",
      "RSID_113\n",
      "RSID_14\n",
      "RSID_114\n",
      "RSID_15\n",
      "RSID_115\n",
      "RSID_16\n",
      "RSID_116\n",
      "RSID_17\n",
      "RSID_117\n",
      "RSID_18\n",
      "RSID_118\n",
      "RSID_19\n",
      "RSID_119\n",
      "RSID_20\n",
      "RSID_120\n",
      "RSID_21\n",
      "RSID_121\n",
      "RSID_22\n",
      "RSID_122\n",
      "RSID_23\n",
      "RSID_123\n",
      "RSID_24\n",
      "RSID_124\n",
      "RSID_25\n",
      "RSID_125\n",
      "RSID_26\n",
      "RSID_126\n",
      "RSID_27\n",
      "RSID_127\n",
      "RSID_28\n",
      "RSID_128\n",
      "RSID_29\n",
      "RSID_129\n",
      "RSID_30\n",
      "RSID_130\n",
      "RSID_31\n",
      "RSID_131\n",
      "RSID_32\n",
      "RSID_132\n",
      "RSID_33\n",
      "RSID_133\n",
      "RSID_34\n",
      "RSID_134\n",
      "RSID_35\n",
      "RSID_135\n",
      "RSID_36\n",
      "RSID_136\n",
      "RSID_37\n",
      "RSID_137\n",
      "RSID_38\n",
      "RSID_138\n",
      "RSID_39\n",
      "RSID_139\n",
      "RSID_40\n",
      "RSID_140\n",
      "RSID_41\n",
      "RSID_141\n",
      "RSID_42\n",
      "RSID_142\n",
      "RSID_43\n",
      "RSID_143\n",
      "RSID_44\n",
      "RSID_144\n",
      "RSID_45\n",
      "RSID_145\n",
      "RSID_46\n",
      "RSID_146\n",
      "RSID_47\n",
      "RSID_147\n",
      "RSID_48\n",
      "RSID_148\n",
      "RSID_49\n",
      "RSID_149\n",
      "RSID_50\n",
      "RSID_150\n",
      "RSID_51\n",
      "RSID_151\n",
      "RSID_52\n",
      "RSID_152\n",
      "RSID_53\n",
      "RSID_153\n",
      "RSID_54\n",
      "RSID_154\n",
      "RSID_55\n",
      "RSID_155\n",
      "RSID_56\n",
      "RSID_156\n",
      "RSID_57\n",
      "RSID_157\n",
      "RSID_58\n",
      "RSID_158\n",
      "RSID_59\n",
      "RSID_159\n",
      "RSID_60\n",
      "RSID_160\n",
      "RSID_61\n",
      "RSID_161\n",
      "RSID_62\n",
      "RSID_162\n",
      "RSID_63\n",
      "RSID_163\n",
      "RSID_64\n",
      "RSID_164\n",
      "RSID_65\n",
      "RSID_165\n",
      "RSID_66\n",
      "RSID_166\n",
      "RSID_67\n",
      "RSID_167\n",
      "RSID_68\n",
      "RSID_168\n",
      "RSID_69\n",
      "RSID_169\n",
      "RSID_70\n",
      "RSID_170\n",
      "RSID_71\n",
      "RSID_171\n",
      "RSID_72\n",
      "RSID_172\n",
      "RSID_73\n",
      "RSID_173\n",
      "RSID_74\n",
      "RSID_174\n",
      "RSID_75\n",
      "RSID_175\n",
      "RSID_76\n",
      "RSID_176\n",
      "RSID_77\n",
      "RSID_177\n",
      "RSID_78\n",
      "RSID_178\n",
      "RSID_79\n",
      "RSID_179\n",
      "RSID_80\n",
      "RSID_180\n",
      "RSID_81\n",
      "RSID_181\n",
      "RSID_82\n",
      "RSID_182\n",
      "RSID_83\n",
      "RSID_183\n",
      "RSID_84\n",
      "RSID_184\n",
      "RSID_85\n",
      "RSID_185\n",
      "RSID_86\n",
      "RSID_186\n",
      "RSID_87\n",
      "RSID_187\n",
      "RSID_88\n",
      "RSID_188\n",
      "RSID_89\n",
      "RSID_189\n",
      "RSID_90\n",
      "RSID_190\n",
      "RSID_91\n",
      "RSID_191\n",
      "RSID_92\n",
      "RSID_192\n",
      "RSID_93\n",
      "RSID_193\n",
      "RSID_94\n",
      "RSID_194\n",
      "RSID_95\n",
      "RSID_195\n",
      "RSID_96\n",
      "RSID_196\n",
      "RSID_97\n",
      "RSID_197\n",
      "RSID_98\n",
      "RSID_198\n",
      "RSID_99\n",
      "RSID_199\n",
      "RSID_200\n"
     ]
    }
   ],
   "source": [
    "for v in iterator(b) # \n",
    "    println(rsid(v))\n",
    "end"
   ]
  },
  {
   "cell_type": "markdown",
   "metadata": {},
   "source": [
    "Setting `from_bgen_start=true` forces the iterator to iterate in the order of appearence in the bgen file. This may be different from the order in the index file."
   ]
  },
  {
   "cell_type": "code",
   "execution_count": 17,
   "metadata": {},
   "outputs": [
    {
     "name": "stdout",
     "output_type": "stream",
     "text": [
      "RSID_2\n",
      "RSID_3\n",
      "RSID_4\n",
      "RSID_5\n",
      "RSID_6\n",
      "RSID_7\n",
      "RSID_8\n",
      "RSID_9\n",
      "RSID_10\n",
      "RSID_11\n",
      "RSID_12\n",
      "RSID_13\n",
      "RSID_14\n",
      "RSID_15\n",
      "RSID_16\n",
      "RSID_17\n",
      "RSID_18\n",
      "RSID_19\n",
      "RSID_20\n",
      "RSID_21\n",
      "RSID_22\n",
      "RSID_23\n",
      "RSID_24\n",
      "RSID_25\n",
      "RSID_26\n",
      "RSID_27\n",
      "RSID_28\n",
      "RSID_29\n",
      "RSID_30\n",
      "RSID_31\n",
      "RSID_32\n",
      "RSID_33\n",
      "RSID_34\n",
      "RSID_35\n",
      "RSID_36\n",
      "RSID_37\n",
      "RSID_38\n",
      "RSID_39\n",
      "RSID_40\n",
      "RSID_41\n",
      "RSID_42\n",
      "RSID_43\n",
      "RSID_44\n",
      "RSID_45\n",
      "RSID_46\n",
      "RSID_47\n",
      "RSID_48\n",
      "RSID_49\n",
      "RSID_50\n",
      "RSID_51\n",
      "RSID_52\n",
      "RSID_53\n",
      "RSID_54\n",
      "RSID_55\n",
      "RSID_56\n",
      "RSID_57\n",
      "RSID_58\n",
      "RSID_59\n",
      "RSID_60\n",
      "RSID_61\n",
      "RSID_62\n",
      "RSID_63\n",
      "RSID_64\n",
      "RSID_65\n",
      "RSID_66\n",
      "RSID_67\n",
      "RSID_68\n",
      "RSID_69\n",
      "RSID_70\n",
      "RSID_71\n",
      "RSID_72\n",
      "RSID_73\n",
      "RSID_74\n",
      "RSID_75\n",
      "RSID_76\n",
      "RSID_77\n",
      "RSID_78\n",
      "RSID_79\n",
      "RSID_80\n",
      "RSID_81\n",
      "RSID_82\n",
      "RSID_83\n",
      "RSID_84\n",
      "RSID_85\n",
      "RSID_86\n",
      "RSID_87\n",
      "RSID_88\n",
      "RSID_89\n",
      "RSID_90\n",
      "RSID_91\n",
      "RSID_92\n",
      "RSID_93\n",
      "RSID_94\n",
      "RSID_95\n",
      "RSID_96\n",
      "RSID_97\n",
      "RSID_98\n",
      "RSID_99\n",
      "RSID_100\n",
      "RSID_101\n",
      "RSID_102\n",
      "RSID_103\n",
      "RSID_104\n",
      "RSID_105\n",
      "RSID_106\n",
      "RSID_107\n",
      "RSID_108\n",
      "RSID_109\n",
      "RSID_110\n",
      "RSID_111\n",
      "RSID_112\n",
      "RSID_113\n",
      "RSID_114\n",
      "RSID_115\n",
      "RSID_116\n",
      "RSID_117\n",
      "RSID_118\n",
      "RSID_119\n",
      "RSID_120\n",
      "RSID_121\n",
      "RSID_122\n",
      "RSID_123\n",
      "RSID_124\n",
      "RSID_125\n",
      "RSID_126\n",
      "RSID_127\n",
      "RSID_128\n",
      "RSID_129\n",
      "RSID_130\n",
      "RSID_131\n",
      "RSID_132\n",
      "RSID_133\n",
      "RSID_134\n",
      "RSID_135\n",
      "RSID_136\n",
      "RSID_137\n",
      "RSID_138\n",
      "RSID_139\n",
      "RSID_140\n",
      "RSID_141\n",
      "RSID_142\n",
      "RSID_143\n",
      "RSID_144\n",
      "RSID_145\n",
      "RSID_146\n",
      "RSID_147\n",
      "RSID_148\n",
      "RSID_149\n",
      "RSID_150\n",
      "RSID_151\n",
      "RSID_152\n",
      "RSID_153\n",
      "RSID_154\n",
      "RSID_155\n",
      "RSID_156\n",
      "RSID_157\n",
      "RSID_158\n",
      "RSID_159\n",
      "RSID_160\n",
      "RSID_161\n",
      "RSID_162\n",
      "RSID_163\n",
      "RSID_164\n",
      "RSID_165\n",
      "RSID_166\n",
      "RSID_167\n",
      "RSID_168\n",
      "RSID_169\n",
      "RSID_170\n",
      "RSID_171\n",
      "RSID_172\n",
      "RSID_173\n",
      "RSID_174\n",
      "RSID_175\n",
      "RSID_176\n",
      "RSID_177\n",
      "RSID_178\n",
      "RSID_179\n",
      "RSID_180\n",
      "RSID_181\n",
      "RSID_182\n",
      "RSID_183\n",
      "RSID_184\n",
      "RSID_185\n",
      "RSID_186\n",
      "RSID_187\n",
      "RSID_188\n",
      "RSID_189\n",
      "RSID_190\n",
      "RSID_191\n",
      "RSID_192\n",
      "RSID_193\n",
      "RSID_194\n",
      "RSID_195\n",
      "RSID_196\n",
      "RSID_197\n",
      "RSID_198\n",
      "RSID_199\n",
      "RSID_200\n"
     ]
    }
   ],
   "source": [
    "for v in iterator(b; from_bgen_start=true)\n",
    "    println(rsid(v))\n",
    "end"
   ]
  },
  {
   "cell_type": "markdown",
   "metadata": {},
   "source": [
    "With the presence of `.bgen.bgi` index file, one may select variants on a certain region using the function `select_region(b, chrom; start=nothing, stop=nothing)`.  "
   ]
  },
  {
   "cell_type": "markdown",
   "metadata": {},
   "source": [
    "The following shows that all 199 variants in the bgen file are located on chromosome 01.  "
   ]
  },
  {
   "cell_type": "code",
   "execution_count": 18,
   "metadata": {},
   "outputs": [
    {
     "data": {
      "text/plain": [
       "199"
      ]
     },
     "execution_count": 18,
     "metadata": {},
     "output_type": "execute_result"
    }
   ],
   "source": [
    "length(select_region(b, \"01\"))"
   ]
  },
  {
   "cell_type": "markdown",
   "metadata": {},
   "source": [
    "We can see that the first variant since position 5000 at chromosome 01 is \"RSID_5\":  "
   ]
  },
  {
   "cell_type": "code",
   "execution_count": 19,
   "metadata": {},
   "outputs": [
    {
     "data": {
      "text/plain": [
       "Variant(0x0000000000001ef8, 0x0000000000001f21, 0x0000000000002169, 0x00000248, 0x000001f4, \"SNPID_5\", \"RSID_5\", \"01\", 0x00001388, 0x0002, [\"A\", \"G\"], nothing)"
      ]
     },
     "execution_count": 19,
     "metadata": {},
     "output_type": "execute_result"
    }
   ],
   "source": [
    "first(select_region(b, \"01\"; start=5000))"
   ]
  },
  {
   "cell_type": "markdown",
   "metadata": {},
   "source": [
    "And that the number of variants in chr01:5000-50000 is 92. "
   ]
  },
  {
   "cell_type": "code",
   "execution_count": 20,
   "metadata": {},
   "outputs": [
    {
     "data": {
      "text/plain": [
       "92"
      ]
     },
     "execution_count": 20,
     "metadata": {},
     "output_type": "execute_result"
    }
   ],
   "source": [
    "length(select_region(b, \"01\"; start=5000, stop=50000))"
   ]
  },
  {
   "cell_type": "markdown",
   "metadata": {},
   "source": [
    "Finally, one may use the `parse_variants()` function to retrieve the variant information as a `Vector{Variant}`. This is equivalent to calling `collect()` on the corresponding `VariantIterator`. It takes the same arguments as `iterator()`. This keeps all the information of variants in-memory. If the size of bgen file is too large, you might want to avoid this."
   ]
  },
  {
   "cell_type": "code",
   "execution_count": 21,
   "metadata": {},
   "outputs": [
    {
     "data": {
      "text/plain": [
       "199-element Vector{Variant}:\n",
       " Variant(0x0000000000001790, 0x00000000000017b9, 0x0000000000001a82, 0x000002c9, 0x000001f4, \"SNPID_2\", \"RSID_2\", \"01\", 0x000007d0, 0x0002, [\"A\", \"G\"], nothing)\n",
       " Variant(0x0000000000001a82, 0x0000000000001aab, 0x0000000000001ced, 0x00000242, 0x000001f4, \"SNPID_3\", \"RSID_3\", \"01\", 0x00000bb8, 0x0002, [\"A\", \"G\"], nothing)\n",
       " Variant(0x0000000000001ced, 0x0000000000001d16, 0x0000000000001ef8, 0x000001e2, 0x000001f4, \"SNPID_4\", \"RSID_4\", \"01\", 0x00000fa0, 0x0002, [\"A\", \"G\"], nothing)\n",
       " Variant(0x0000000000001ef8, 0x0000000000001f21, 0x0000000000002169, 0x00000248, 0x000001f4, \"SNPID_5\", \"RSID_5\", \"01\", 0x00001388, 0x0002, [\"A\", \"G\"], nothing)\n",
       " Variant(0x0000000000002169, 0x0000000000002192, 0x0000000000002389, 0x000001f7, 0x000001f4, \"SNPID_6\", \"RSID_6\", \"01\", 0x00001770, 0x0002, [\"A\", \"G\"], nothing)\n",
       " Variant(0x0000000000002389, 0x00000000000023b2, 0x00000000000025df, 0x0000022d, 0x000001f4, \"SNPID_7\", \"RSID_7\", \"01\", 0x00001b58, 0x0002, [\"A\", \"G\"], nothing)\n",
       " Variant(0x00000000000025df, 0x0000000000002608, 0x00000000000027a4, 0x0000019c, 0x000001f4, \"SNPID_8\", \"RSID_8\", \"01\", 0x00001f40, 0x0002, [\"A\", \"G\"], nothing)\n",
       " Variant(0x00000000000027a4, 0x00000000000027cd, 0x00000000000029de, 0x00000211, 0x000001f4, \"SNPID_9\", \"RSID_9\", \"01\", 0x00002328, 0x0002, [\"A\", \"G\"], nothing)\n",
       " Variant(0x00000000000029de, 0x0000000000002a09, 0x0000000000002c43, 0x0000023a, 0x000001f4, \"SNPID_10\", \"RSID_10\", \"01\", 0x00002710, 0x0002, [\"A\", \"G\"], nothing)\n",
       " Variant(0x0000000000002c43, 0x0000000000002c6e, 0x0000000000002e8a, 0x0000021c, 0x000001f4, \"SNPID_11\", \"RSID_11\", \"01\", 0x00002af8, 0x0002, [\"A\", \"G\"], nothing)\n",
       " Variant(0x0000000000002e8a, 0x0000000000002eb5, 0x00000000000030e0, 0x0000022b, 0x000001f4, \"SNPID_12\", \"RSID_12\", \"01\", 0x00002ee0, 0x0002, [\"A\", \"G\"], nothing)\n",
       " Variant(0x00000000000030e0, 0x000000000000310b, 0x0000000000003375, 0x0000026a, 0x000001f4, \"SNPID_13\", \"RSID_13\", \"01\", 0x000032c8, 0x0002, [\"A\", \"G\"], nothing)\n",
       " Variant(0x0000000000003375, 0x00000000000033a0, 0x00000000000035dd, 0x0000023d, 0x000001f4, \"SNPID_14\", \"RSID_14\", \"01\", 0x000036b0, 0x0002, [\"A\", \"G\"], nothing)\n",
       " ⋮\n",
       " Variant(0x000000000001d991, 0x000000000001d9be, 0x000000000001dc12, 0x00000254, 0x000001f4, \"SNPID_189\", \"RSID_189\", \"01\", 0x00015ba9, 0x0002, [\"A\", \"G\"], nothing)\n",
       " Variant(0x000000000001dc12, 0x000000000001dc3f, 0x000000000001ddf2, 0x000001b3, 0x000001f4, \"SNPID_190\", \"RSID_190\", \"01\", 0x00015f91, 0x0002, [\"A\", \"G\"], nothing)\n",
       " Variant(0x000000000001ddf2, 0x000000000001de1f, 0x000000000001e011, 0x000001f2, 0x000001f4, \"SNPID_191\", \"RSID_191\", \"01\", 0x00016379, 0x0002, [\"A\", \"G\"], nothing)\n",
       " Variant(0x000000000001e011, 0x000000000001e03e, 0x000000000001e214, 0x000001d6, 0x000001f4, \"SNPID_192\", \"RSID_192\", \"01\", 0x00016761, 0x0002, [\"A\", \"G\"], nothing)\n",
       " Variant(0x000000000001e214, 0x000000000001e241, 0x000000000001e407, 0x000001c6, 0x000001f4, \"SNPID_193\", \"RSID_193\", \"01\", 0x00016b49, 0x0002, [\"A\", \"G\"], nothing)\n",
       " Variant(0x000000000001e407, 0x000000000001e434, 0x000000000001e6c9, 0x00000295, 0x000001f4, \"SNPID_194\", \"RSID_194\", \"01\", 0x00016f31, 0x0002, [\"A\", \"G\"], nothing)\n",
       " Variant(0x000000000001e6c9, 0x000000000001e6f6, 0x000000000001e8e1, 0x000001eb, 0x000001f4, \"SNPID_195\", \"RSID_195\", \"01\", 0x00017319, 0x0002, [\"A\", \"G\"], nothing)\n",
       " Variant(0x000000000001e8e1, 0x000000000001e90e, 0x000000000001ec86, 0x00000378, 0x000001f4, \"SNPID_196\", \"RSID_196\", \"01\", 0x00017701, 0x0002, [\"A\", \"G\"], nothing)\n",
       " Variant(0x000000000001ec86, 0x000000000001ecb3, 0x000000000001ef8b, 0x000002d8, 0x000001f4, \"SNPID_197\", \"RSID_197\", \"01\", 0x00017ae9, 0x0002, [\"A\", \"G\"], nothing)\n",
       " Variant(0x000000000001ef8b, 0x000000000001efb8, 0x000000000001f183, 0x000001cb, 0x000001f4, \"SNPID_198\", \"RSID_198\", \"01\", 0x00017ed1, 0x0002, [\"A\", \"G\"], nothing)\n",
       " Variant(0x000000000001f183, 0x000000000001f1b0, 0x000000000001f3d4, 0x00000224, 0x000001f4, \"SNPID_199\", \"RSID_199\", \"01\", 0x000182b9, 0x0002, [\"A\", \"G\"], nothing)\n",
       " Variant(0x000000000001f3d4, 0x000000000001f401, 0x000000000001f6ea, 0x000002e9, 0x000001f4, \"SNPID_200\", \"RSID_200\", \"01\", 0x000186a1, 0x0002, [\"A\", \"G\"], nothing)"
      ]
     },
     "execution_count": 21,
     "metadata": {},
     "output_type": "execute_result"
    }
   ],
   "source": [
    "variants = parse_variants(b; from_bgen_start=true)"
   ]
  },
  {
   "cell_type": "markdown",
   "metadata": {},
   "source": [
    "If the index file (`.bgi`) is provided, the users may search for certain RSID in a BGEN file. "
   ]
  },
  {
   "cell_type": "code",
   "execution_count": 22,
   "metadata": {},
   "outputs": [
    {
     "data": {
      "text/plain": [
       "Variant(0x00000000000029de, 0x0000000000002a09, 0x0000000000002c43, 0x0000023a, 0x000001f4, \"SNPID_10\", \"RSID_10\", \"01\", 0x00002710, 0x0002, [\"A\", \"G\"], nothing)"
      ]
     },
     "execution_count": 22,
     "metadata": {},
     "output_type": "execute_result"
    }
   ],
   "source": [
    "v = variant_by_rsid(b, \"RSID_10\")"
   ]
  },
  {
   "cell_type": "markdown",
   "metadata": {},
   "source": [
    "Also, the users may look for the `n`-th (1-based) variant with respect to genomic location."
   ]
  },
  {
   "cell_type": "code",
   "execution_count": 23,
   "metadata": {},
   "outputs": [
    {
     "data": {
      "text/plain": [
       "Variant(0x0000000000001a82, 0x0000000000001aab, 0x0000000000001ced, 0x00000242, 0x000001f4, \"SNPID_3\", \"RSID_3\", \"01\", 0x00000bb8, 0x0002, [\"A\", \"G\"], nothing)"
      ]
     },
     "execution_count": 23,
     "metadata": {},
     "output_type": "execute_result"
    }
   ],
   "source": [
    "v = variant_by_index(b, 4)"
   ]
  },
  {
   "cell_type": "markdown",
   "metadata": {},
   "source": [
    "## Genotype/haplotype probabilities and minor allele dosage"
   ]
  },
  {
   "cell_type": "markdown",
   "metadata": {},
   "source": [
    "The genotype information is decompressed and parsed when probability data is needed. The parsing is triggered by a call to one of:\n",
    "- `probabilities!(b::Bgen, v::Variant; T=Float64)` : probability of each genotype/haplotype.\n",
    "- `first_allele_dosage!(b::Bgen, v::Variant; T=Float64`) : dosage of the first allele for a biallelic variant. The first allele listed is often the alternative allele, but it depends on project-wise convention. For example, the first allele is the reference allele for the UK Biobank project. \n",
    "- `minor_allele_dosage!(b::Bgen, v::Variant; T=Float64)` : minor allele dosage for a biallelic variant.\n",
    "\n",
    "Once parsed, the results are cached and loaded on any subsequent calls. \n",
    "After that, one may access genotype information using the following functions, as well as `probabilities!()` and `minor_allele_dosage!()`:\n",
    "- `phased(v::Variant)`: if the stored data is phased\n",
    "- `min_ploidy(v::Variant)`: minimum ploidy across the samples\n",
    "- `max_ploidy(v::Variant)`: maximum ploidy across the samples\n",
    "- `ploidy(v::Variant)` : Vector of ploidy for each sample\n",
    "- `bit_depth(v::Variant)` : number of bits used to represent a probability value\n",
    "- `missings(v::Variant)` : list of samples data is missing\n",
    "\n",
    "These functions are allowed after calling `minor_allele_dosage!()`:\n",
    "- `minor_allele(v::Variant)`\n",
    "- `major_allele(v::Variant)`"
   ]
  },
  {
   "cell_type": "markdown",
   "metadata": {},
   "source": [
    "If the data are not phased, `probabilities!(b, v)[i, j]` represents the probability of genotype `i` for sample `j`. Each column sums up to one. The genotypes are in [colex-order](https://en.wikipedia.org/wiki/Lexicographic_order#Colexicographic_order) of allele counts. For example, for three alleles with ploidy 3:\n",
    "\n",
    "| row index | allele counts | genotype |\n",
    "|---:|:---:|:---:|\n",
    "| 1 | (3, 0, 0) | 111 |\n",
    "| 2 | (2, 1, 0) | 112 |\n",
    "| 3 | (1, 2, 0) | 122 |\n",
    "| 4 | (0, 3, 0) | 222 |\n",
    "| 5 | (2, 0, 1) | 113 |\n",
    "| 6 | (1, 1, 1) | 123 |\n",
    "| 7 | (0, 2, 1) | 223 |\n",
    "| 8 | (1, 0, 2) | 133 |\n",
    "| 9 | (0, 1, 2) | 233 |\n",
    "| 10 | (0, 0, 3) | 333 |"
   ]
  },
  {
   "cell_type": "code",
   "execution_count": 24,
   "metadata": {},
   "outputs": [
    {
     "data": {
      "text/plain": [
       "3×500 Matrix{Float32}:\n",
       " NaN  0.027451    0.0156863  0.0235294  …  0.0156863  0.921569   0.00392157\n",
       " NaN  0.00784314  0.0509804  0.933333      0.027451   0.0509804  0.984314\n",
       " NaN  0.964706    0.933333   0.0431373     0.956863   0.027451   0.0117647"
      ]
     },
     "execution_count": 24,
     "metadata": {},
     "output_type": "execute_result"
    }
   ],
   "source": [
    "probabilities!(b, variants[1])"
   ]
  },
  {
   "cell_type": "markdown",
   "metadata": {},
   "source": [
    "Genotype data for sample 1 is missing in this case. "
   ]
  },
  {
   "cell_type": "code",
   "execution_count": 25,
   "metadata": {},
   "outputs": [
    {
     "data": {
      "text/plain": [
       "1-element Vector{Int64}:\n",
       " 1"
      ]
     },
     "execution_count": 25,
     "metadata": {},
     "output_type": "execute_result"
    }
   ],
   "source": [
    "missings(variants[1])"
   ]
  },
  {
   "cell_type": "markdown",
   "metadata": {},
   "source": [
    "On the other hand, if the data are phased, `probabilities!(b, v)[i, j]` represents the probability that haplotype `(i - 1) ÷ n_alleles + 1` has allele `(i - 1) % n_alleles + 1` for sample `j`, where `n_alleles` is the number of alleles. The below is an example of phased probabilities. i.e., each column represents each sample, and each group of `n_alleles` rows represent the allele probabilities for each haplotype. In this case, ploidy is `[1, 2, 2, 2]`, thus indexes `[3:4, 1]` are invalid, and is filled with `NaN`."
   ]
  },
  {
   "cell_type": "code",
   "execution_count": 26,
   "metadata": {},
   "outputs": [
    {
     "data": {
      "text/plain": [
       "4×4 Matrix{Float32}:\n",
       "   1.0  0.0  1.0  1.0\n",
       "   0.0  1.0  0.0  0.0\n",
       " NaN    0.0  1.0  0.0\n",
       " NaN    1.0  0.0  1.0"
      ]
     },
     "execution_count": 26,
     "metadata": {},
     "output_type": "execute_result"
    }
   ],
   "source": [
    "b2 = Bgen(BGEN.datadir(\"complex.bgen\"))\n",
    "vs = parse_variants(b2)\n",
    "p = probabilities!(b2, vs[3])"
   ]
  },
  {
   "cell_type": "markdown",
   "metadata": {},
   "source": [
    "This variant has two possible alleles (allele 1: \"A\" and allele 2: \"G\"), and all the samples are diploids except for the first one, which is monoploid.\n",
    "\n",
    "It corresponds to a line of VCF file:\n",
    "\n",
    "```\n",
    "#CHROM  POS     ID      REF     ALT     QUAL    FILTER  INFO    FORMAT  sample_0        sample_1        sample_2        sample_3\n",
    "01      3       V3      A       G       .       .       .       GT:HP   0:1,0   1|1:0,1,0,1     0|0:1,0,1,0     0|1:1,0,0,1\n",
    "```\n",
    "\n",
    "So the first sample is monoploid of A, the second sample is homozygote A|A, the third sample is homozygote G|G, and the last sample is heterozygote A|G (phased). \n"
   ]
  },
  {
   "cell_type": "markdown",
   "metadata": {},
   "source": [
    "We can confirm the phasedness and ploidy of each sample as follows."
   ]
  },
  {
   "cell_type": "code",
   "execution_count": 27,
   "metadata": {},
   "outputs": [
    {
     "data": {
      "text/plain": [
       "0x01"
      ]
     },
     "execution_count": 27,
     "metadata": {},
     "output_type": "execute_result"
    }
   ],
   "source": [
    "phased(vs[3])"
   ]
  },
  {
   "cell_type": "code",
   "execution_count": 28,
   "metadata": {},
   "outputs": [
    {
     "data": {
      "text/plain": [
       "4-element Vector{UInt8}:\n",
       " 0x01\n",
       " 0x02\n",
       " 0x02\n",
       " 0x02"
      ]
     },
     "execution_count": 28,
     "metadata": {},
     "output_type": "execute_result"
    }
   ],
   "source": [
    "ploidy(vs[3])"
   ]
  },
  {
   "cell_type": "code",
   "execution_count": 29,
   "metadata": {},
   "outputs": [
    {
     "data": {
      "text/plain": [
       "2-element Vector{String}:\n",
       " \"A\"\n",
       " \"G\""
      ]
     },
     "execution_count": 29,
     "metadata": {},
     "output_type": "execute_result"
    }
   ],
   "source": [
    "alleles(vs[3])"
   ]
  },
  {
   "cell_type": "markdown",
   "metadata": {},
   "source": [
    "For biallelic nonphased genotype data, `first_allele_dosage!(b, v)` and `minor_allele_dosage!(b, v)` can be computed. "
   ]
  },
  {
   "cell_type": "code",
   "execution_count": 30,
   "metadata": {},
   "outputs": [
    {
     "data": {
      "text/plain": [
       "500-element Vector{Float32}:\n",
       " NaN\n",
       "   0.0627451\n",
       "   0.08235294\n",
       "   0.9803922\n",
       "   0.09019608\n",
       "   0.14117648\n",
       "   1.0745099\n",
       "   0.054901965\n",
       "   0.10980393\n",
       "   0.121568635\n",
       "   0.14117648\n",
       "   0.21568629\n",
       "   0.08235294\n",
       "   ⋮\n",
       "   0.09411766\n",
       "   0.10196079\n",
       "   0.027450982\n",
       "   0.96470594\n",
       "   0.0\n",
       "   1.0117648\n",
       "   0.043137256\n",
       "   0.0627451\n",
       "   1.0431373\n",
       "   0.05882353\n",
       "   1.8941176\n",
       "   0.99215686"
      ]
     },
     "execution_count": 30,
     "metadata": {},
     "output_type": "execute_result"
    }
   ],
   "source": [
    "first_allele_dosage!(b, variants[1])"
   ]
  },
  {
   "cell_type": "code",
   "execution_count": 31,
   "metadata": {},
   "outputs": [
    {
     "data": {
      "text/plain": [
       "500-element Vector{Float32}:\n",
       " NaN\n",
       "   0.0627451\n",
       "   0.08235294\n",
       "   0.9803922\n",
       "   0.09019608\n",
       "   0.14117648\n",
       "   1.0745099\n",
       "   0.054901965\n",
       "   0.10980393\n",
       "   0.121568635\n",
       "   0.14117648\n",
       "   0.21568629\n",
       "   0.08235294\n",
       "   ⋮\n",
       "   0.09411766\n",
       "   0.10196079\n",
       "   0.027450982\n",
       "   0.96470594\n",
       "   0.0\n",
       "   1.0117648\n",
       "   0.043137256\n",
       "   0.0627451\n",
       "   1.0431373\n",
       "   0.05882353\n",
       "   1.8941176\n",
       "   0.99215686"
      ]
     },
     "execution_count": 31,
     "metadata": {},
     "output_type": "execute_result"
    }
   ],
   "source": [
    "minor_allele_dosage!(b, variants[1])"
   ]
  },
  {
   "cell_type": "code",
   "execution_count": 32,
   "metadata": {},
   "outputs": [
    {
     "data": {
      "text/plain": [
       "0x00"
      ]
     },
     "execution_count": 32,
     "metadata": {},
     "output_type": "execute_result"
    }
   ],
   "source": [
    "phased(variants[1])"
   ]
  },
  {
   "cell_type": "code",
   "execution_count": 33,
   "metadata": {},
   "outputs": [
    {
     "data": {
      "text/plain": [
       "2"
      ]
     },
     "execution_count": 33,
     "metadata": {},
     "output_type": "execute_result"
    }
   ],
   "source": [
    "n_alleles(variants[1])"
   ]
  },
  {
   "cell_type": "code",
   "execution_count": 34,
   "metadata": {},
   "outputs": [
    {
     "data": {
      "text/plain": [
       "\"A\""
      ]
     },
     "execution_count": 34,
     "metadata": {},
     "output_type": "execute_result"
    }
   ],
   "source": [
    "minor_allele(variants[1])"
   ]
  },
  {
   "cell_type": "code",
   "execution_count": 35,
   "metadata": {},
   "outputs": [
    {
     "data": {
      "text/plain": [
       "\"G\""
      ]
     },
     "execution_count": 35,
     "metadata": {},
     "output_type": "execute_result"
    }
   ],
   "source": [
    "major_allele(variants[1])"
   ]
  },
  {
   "cell_type": "markdown",
   "metadata": {},
   "source": [
    "`first_allele_dosage!()` and `minor_allele_dosage!()` support a keyword argument `mean_impute`, which imputes missing value with the mean of the non-missing values."
   ]
  },
  {
   "cell_type": "markdown",
   "metadata": {},
   "source": [
    "`minor_allele_dosage!()` supports a keyword argument `mean_impute`, which imputes missing value with the mean of the non-missing values."
   ]
  },
  {
   "cell_type": "code",
   "execution_count": 36,
   "metadata": {},
   "outputs": [
    {
     "data": {
      "text/plain": [
       "500-element Vector{Float32}:\n",
       " 0.39581063\n",
       " 0.0627451\n",
       " 0.08235294\n",
       " 0.9803922\n",
       " 0.09019608\n",
       " 0.14117648\n",
       " 1.0745099\n",
       " 0.054901965\n",
       " 0.10980393\n",
       " 0.121568635\n",
       " 0.14117648\n",
       " 0.21568629\n",
       " 0.08235294\n",
       " ⋮\n",
       " 0.09411766\n",
       " 0.10196079\n",
       " 0.027450982\n",
       " 0.96470594\n",
       " 0.0\n",
       " 1.0117648\n",
       " 0.043137256\n",
       " 0.0627451\n",
       " 1.0431373\n",
       " 0.05882353\n",
       " 1.8941176\n",
       " 0.99215686"
      ]
     },
     "execution_count": 36,
     "metadata": {},
     "output_type": "execute_result"
    }
   ],
   "source": [
    "first_allele_dosage!(b, variants[1]; T=Float64, mean_impute=true)"
   ]
  },
  {
   "cell_type": "markdown",
   "metadata": {},
   "source": [
    "## Filtering\n",
    "\n",
    "Filtering based on `BitVector` for samples and variants is supported through `BGEN.filter` function if bit depth of each variant is a multiple of 8. The syntax is:\n",
    "```julia\n",
    "BGEN.filter(dest::AbstractString, b::Bgen, variant_mask::BitVector, \n",
    "    sample_mask::BitVector=trues(length(b.samples));\n",
    "    dest_sample = dest[1:end-5] * \".sample\",\n",
    "    sample_path=nothing, sample_names=b.samples,\n",
    "    offsets=nothing, from_bgen_start=false)\n",
    "```\n",
    "- `dest` is the output path of the resulting `.bgen` file. \n",
    "- `b` is a `Bgen` instance. \n",
    "- `variant_mask` is a `BitVector` for determining whether to include each variant in the output file.\n",
    "- `sample_mask` is a `BitVector` for determining whether to include each sample in the output file.\n",
    "- `dest_sample` is the location of the output `.sample` file. \n",
    "- `sample_path` is the location of the `.sample` file of the input BGEN file. \n",
    "- `sample_names` is the names of the sample in the input BGEN file. \n",
    "- `offsets` and `from_bgen_start` are the arguments for the `iterator` method. \n",
    "\n",
    "It only supports layout 2, and the output is always compressed in ZSTD. The sample names are stored in a separate .sample file, but not in the output .bgen file. \n"
   ]
  },
  {
   "cell_type": "markdown",
   "metadata": {},
   "source": [
    "An example of choosing first 10 variants:"
   ]
  },
  {
   "cell_type": "code",
   "execution_count": 37,
   "metadata": {},
   "outputs": [],
   "source": [
    "b = Bgen(BGEN.datadir(\"example.8bits.bgen\"))\n",
    "vidx = falses(b.header.n_variants)\n",
    "vidx[1:10] .= true\n",
    "BGEN.filter(\"test.bgen\", b, vidx)\n",
    "b2 = Bgen(\"test.bgen\"; sample_path=\"test.sample\")\n",
    "@assert all(b.samples .== b2.samples)\n",
    "for (v1, v2) in zip(iterator(b), iterator(b2)) # length of two iterators are different.\n",
    "    # it stops when the shorter one (b2) ends.\n",
    "    @assert v1.varid == v2.varid\n",
    "    @assert v1.rsid == v2.rsid\n",
    "    @assert v1.chrom == v2.chrom\n",
    "    @assert v1.pos == v2.pos\n",
    "    @assert v1.n_alleles == v2.n_alleles\n",
    "    @assert all(v1.alleles .== v2.alleles)\n",
    "    decompressed1 = BGEN.decompress(b.io, v1, b.header)\n",
    "    decompressed2 = BGEN.decompress(b2.io, v2, b2.header)\n",
    "    @assert all(decompressed1 .== decompressed2)\n",
    "end"
   ]
  },
  {
   "cell_type": "markdown",
   "metadata": {},
   "source": [
    "An example of choosing last two samples out of four samples:"
   ]
  },
  {
   "cell_type": "code",
   "execution_count": 38,
   "metadata": {},
   "outputs": [],
   "source": [
    "b3 = Bgen(BGEN.datadir(\"complex.24bits.bgen\"))\n",
    "BGEN.filter(\"test2.bgen\", b3, trues(b3.header.n_variants), BitVector([false, false, true, true]))\n",
    "b4 = Bgen(\"test2.bgen\"; sample_path = \"test2.sample\")\n",
    "for (v3, v4) in zip(iterator(b3), iterator(b4))\n",
    "    @assert v3.varid == v4.varid\n",
    "    @assert v3.rsid == v4.rsid\n",
    "    @assert v3.chrom == v4.chrom\n",
    "    @assert v3.pos == v4.pos\n",
    "    @assert v3.n_alleles == v4.n_alleles\n",
    "    @assert all(v3.alleles .== v4.alleles)\n",
    "    @assert isapprox(probabilities!(b3, v3)[:, 3:4], probabilities!(b4, v4); nans=true)\n",
    "end"
   ]
  },
  {
   "cell_type": "code",
   "execution_count": 39,
   "metadata": {},
   "outputs": [],
   "source": [
    "rm(\"test.bgen\", force=true)\n",
    "rm(\"test.sample\", force=true)\n",
    "rm(\"test2.bgen\", force=true)\n",
    "rm(\"test2.sample\", force=true)"
   ]
  }
 ],
 "metadata": {
  "kernelspec": {
   "display_name": "Julia 1.7.1",
   "language": "julia",
   "name": "julia-1.7"
  },
  "language_info": {
   "file_extension": ".jl",
   "mimetype": "application/julia",
   "name": "julia",
   "version": "1.7.1"
  }
 },
 "nbformat": 4,
 "nbformat_minor": 4
}
